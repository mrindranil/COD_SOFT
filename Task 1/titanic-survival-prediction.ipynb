{
 "cells": [
  {
   "cell_type": "code",
   "execution_count": 1,
   "id": "d08b73df",
   "metadata": {
    "execution": {
     "iopub.execute_input": "2024-05-23T10:01:18.015459Z",
     "iopub.status.busy": "2024-05-23T10:01:18.015011Z",
     "iopub.status.idle": "2024-05-23T10:01:21.158680Z",
     "shell.execute_reply": "2024-05-23T10:01:21.157221Z"
    },
    "executionInfo": {
     "elapsed": 8,
     "status": "ok",
     "timestamp": 1716454267751,
     "user": {
      "displayName": "RUDRA KANTI PARIA",
      "userId": "12500779285996674123"
     },
     "user_tz": -330
    },
    "id": "RBl3RlF_omoU",
    "papermill": {
     "duration": 3.167469,
     "end_time": "2024-05-23T10:01:21.161585",
     "exception": false,
     "start_time": "2024-05-23T10:01:17.994116",
     "status": "completed"
    },
    "tags": []
   },
   "outputs": [],
   "source": [
    "import pandas as pd\n",
    "import matplotlib.pyplot as plt\n",
    "from sklearn.model_selection import train_test_split\n",
    "from sklearn.metrics import r2_score\n",
    "from sklearn.metrics import mean_absolute_error\n",
    "from sklearn.ensemble import RandomForestClassifier"
   ]
  },
  {
   "cell_type": "code",
   "execution_count": 2,
   "id": "bea7dc48",
   "metadata": {
    "execution": {
     "iopub.execute_input": "2024-05-23T10:01:21.199069Z",
     "iopub.status.busy": "2024-05-23T10:01:21.197574Z",
     "iopub.status.idle": "2024-05-23T10:01:21.237093Z",
     "shell.execute_reply": "2024-05-23T10:01:21.235801Z"
    },
    "executionInfo": {
     "elapsed": 15,
     "status": "ok",
     "timestamp": 1716454267041,
     "user": {
      "displayName": "RUDRA KANTI PARIA",
      "userId": "12500779285996674123"
     },
     "user_tz": -330
    },
    "id": "W67YupUto7Bg",
    "papermill": {
     "duration": 0.062476,
     "end_time": "2024-05-23T10:01:21.240747",
     "exception": false,
     "start_time": "2024-05-23T10:01:21.178271",
     "status": "completed"
    },
    "tags": []
   },
   "outputs": [],
   "source": [
    "df= pd.read_csv(\"/kaggle/input/titanic-dataset/Titanic-Dataset.csv\")"
   ]
  },
  {
   "cell_type": "code",
   "execution_count": 3,
   "id": "c2d70d2e",
   "metadata": {
    "execution": {
     "iopub.execute_input": "2024-05-23T10:01:21.277652Z",
     "iopub.status.busy": "2024-05-23T10:01:21.277233Z",
     "iopub.status.idle": "2024-05-23T10:01:21.326761Z",
     "shell.execute_reply": "2024-05-23T10:01:21.325660Z"
    },
    "executionInfo": {
     "elapsed": 693,
     "status": "ok",
     "timestamp": 1716454270767,
     "user": {
      "displayName": "RUDRA KANTI PARIA",
      "userId": "12500779285996674123"
     },
     "user_tz": -330
    },
    "id": "4TEX2ehmo7Ec",
    "outputId": "1387b973-e199-4b6e-816b-eaa8ee9af8a9",
    "papermill": {
     "duration": 0.070827,
     "end_time": "2024-05-23T10:01:21.329117",
     "exception": false,
     "start_time": "2024-05-23T10:01:21.258290",
     "status": "completed"
    },
    "tags": []
   },
   "outputs": [
    {
     "data": {
      "text/html": [
       "<div>\n",
       "<style scoped>\n",
       "    .dataframe tbody tr th:only-of-type {\n",
       "        vertical-align: middle;\n",
       "    }\n",
       "\n",
       "    .dataframe tbody tr th {\n",
       "        vertical-align: top;\n",
       "    }\n",
       "\n",
       "    .dataframe thead th {\n",
       "        text-align: right;\n",
       "    }\n",
       "</style>\n",
       "<table border=\"1\" class=\"dataframe\">\n",
       "  <thead>\n",
       "    <tr style=\"text-align: right;\">\n",
       "      <th></th>\n",
       "      <th>PassengerId</th>\n",
       "      <th>Survived</th>\n",
       "      <th>Pclass</th>\n",
       "      <th>Name</th>\n",
       "      <th>Sex</th>\n",
       "      <th>Age</th>\n",
       "      <th>SibSp</th>\n",
       "      <th>Parch</th>\n",
       "      <th>Ticket</th>\n",
       "      <th>Fare</th>\n",
       "      <th>Cabin</th>\n",
       "      <th>Embarked</th>\n",
       "    </tr>\n",
       "  </thead>\n",
       "  <tbody>\n",
       "    <tr>\n",
       "      <th>0</th>\n",
       "      <td>1</td>\n",
       "      <td>0</td>\n",
       "      <td>3</td>\n",
       "      <td>Braund, Mr. Owen Harris</td>\n",
       "      <td>male</td>\n",
       "      <td>22.0</td>\n",
       "      <td>1</td>\n",
       "      <td>0</td>\n",
       "      <td>A/5 21171</td>\n",
       "      <td>7.2500</td>\n",
       "      <td>NaN</td>\n",
       "      <td>S</td>\n",
       "    </tr>\n",
       "    <tr>\n",
       "      <th>1</th>\n",
       "      <td>2</td>\n",
       "      <td>1</td>\n",
       "      <td>1</td>\n",
       "      <td>Cumings, Mrs. John Bradley (Florence Briggs Th...</td>\n",
       "      <td>female</td>\n",
       "      <td>38.0</td>\n",
       "      <td>1</td>\n",
       "      <td>0</td>\n",
       "      <td>PC 17599</td>\n",
       "      <td>71.2833</td>\n",
       "      <td>C85</td>\n",
       "      <td>C</td>\n",
       "    </tr>\n",
       "    <tr>\n",
       "      <th>2</th>\n",
       "      <td>3</td>\n",
       "      <td>1</td>\n",
       "      <td>3</td>\n",
       "      <td>Heikkinen, Miss. Laina</td>\n",
       "      <td>female</td>\n",
       "      <td>26.0</td>\n",
       "      <td>0</td>\n",
       "      <td>0</td>\n",
       "      <td>STON/O2. 3101282</td>\n",
       "      <td>7.9250</td>\n",
       "      <td>NaN</td>\n",
       "      <td>S</td>\n",
       "    </tr>\n",
       "    <tr>\n",
       "      <th>3</th>\n",
       "      <td>4</td>\n",
       "      <td>1</td>\n",
       "      <td>1</td>\n",
       "      <td>Futrelle, Mrs. Jacques Heath (Lily May Peel)</td>\n",
       "      <td>female</td>\n",
       "      <td>35.0</td>\n",
       "      <td>1</td>\n",
       "      <td>0</td>\n",
       "      <td>113803</td>\n",
       "      <td>53.1000</td>\n",
       "      <td>C123</td>\n",
       "      <td>S</td>\n",
       "    </tr>\n",
       "    <tr>\n",
       "      <th>4</th>\n",
       "      <td>5</td>\n",
       "      <td>0</td>\n",
       "      <td>3</td>\n",
       "      <td>Allen, Mr. William Henry</td>\n",
       "      <td>male</td>\n",
       "      <td>35.0</td>\n",
       "      <td>0</td>\n",
       "      <td>0</td>\n",
       "      <td>373450</td>\n",
       "      <td>8.0500</td>\n",
       "      <td>NaN</td>\n",
       "      <td>S</td>\n",
       "    </tr>\n",
       "    <tr>\n",
       "      <th>...</th>\n",
       "      <td>...</td>\n",
       "      <td>...</td>\n",
       "      <td>...</td>\n",
       "      <td>...</td>\n",
       "      <td>...</td>\n",
       "      <td>...</td>\n",
       "      <td>...</td>\n",
       "      <td>...</td>\n",
       "      <td>...</td>\n",
       "      <td>...</td>\n",
       "      <td>...</td>\n",
       "      <td>...</td>\n",
       "    </tr>\n",
       "    <tr>\n",
       "      <th>886</th>\n",
       "      <td>887</td>\n",
       "      <td>0</td>\n",
       "      <td>2</td>\n",
       "      <td>Montvila, Rev. Juozas</td>\n",
       "      <td>male</td>\n",
       "      <td>27.0</td>\n",
       "      <td>0</td>\n",
       "      <td>0</td>\n",
       "      <td>211536</td>\n",
       "      <td>13.0000</td>\n",
       "      <td>NaN</td>\n",
       "      <td>S</td>\n",
       "    </tr>\n",
       "    <tr>\n",
       "      <th>887</th>\n",
       "      <td>888</td>\n",
       "      <td>1</td>\n",
       "      <td>1</td>\n",
       "      <td>Graham, Miss. Margaret Edith</td>\n",
       "      <td>female</td>\n",
       "      <td>19.0</td>\n",
       "      <td>0</td>\n",
       "      <td>0</td>\n",
       "      <td>112053</td>\n",
       "      <td>30.0000</td>\n",
       "      <td>B42</td>\n",
       "      <td>S</td>\n",
       "    </tr>\n",
       "    <tr>\n",
       "      <th>888</th>\n",
       "      <td>889</td>\n",
       "      <td>0</td>\n",
       "      <td>3</td>\n",
       "      <td>Johnston, Miss. Catherine Helen \"Carrie\"</td>\n",
       "      <td>female</td>\n",
       "      <td>NaN</td>\n",
       "      <td>1</td>\n",
       "      <td>2</td>\n",
       "      <td>W./C. 6607</td>\n",
       "      <td>23.4500</td>\n",
       "      <td>NaN</td>\n",
       "      <td>S</td>\n",
       "    </tr>\n",
       "    <tr>\n",
       "      <th>889</th>\n",
       "      <td>890</td>\n",
       "      <td>1</td>\n",
       "      <td>1</td>\n",
       "      <td>Behr, Mr. Karl Howell</td>\n",
       "      <td>male</td>\n",
       "      <td>26.0</td>\n",
       "      <td>0</td>\n",
       "      <td>0</td>\n",
       "      <td>111369</td>\n",
       "      <td>30.0000</td>\n",
       "      <td>C148</td>\n",
       "      <td>C</td>\n",
       "    </tr>\n",
       "    <tr>\n",
       "      <th>890</th>\n",
       "      <td>891</td>\n",
       "      <td>0</td>\n",
       "      <td>3</td>\n",
       "      <td>Dooley, Mr. Patrick</td>\n",
       "      <td>male</td>\n",
       "      <td>32.0</td>\n",
       "      <td>0</td>\n",
       "      <td>0</td>\n",
       "      <td>370376</td>\n",
       "      <td>7.7500</td>\n",
       "      <td>NaN</td>\n",
       "      <td>Q</td>\n",
       "    </tr>\n",
       "  </tbody>\n",
       "</table>\n",
       "<p>891 rows × 12 columns</p>\n",
       "</div>"
      ],
      "text/plain": [
       "     PassengerId  Survived  Pclass  \\\n",
       "0              1         0       3   \n",
       "1              2         1       1   \n",
       "2              3         1       3   \n",
       "3              4         1       1   \n",
       "4              5         0       3   \n",
       "..           ...       ...     ...   \n",
       "886          887         0       2   \n",
       "887          888         1       1   \n",
       "888          889         0       3   \n",
       "889          890         1       1   \n",
       "890          891         0       3   \n",
       "\n",
       "                                                  Name     Sex   Age  SibSp  \\\n",
       "0                              Braund, Mr. Owen Harris    male  22.0      1   \n",
       "1    Cumings, Mrs. John Bradley (Florence Briggs Th...  female  38.0      1   \n",
       "2                               Heikkinen, Miss. Laina  female  26.0      0   \n",
       "3         Futrelle, Mrs. Jacques Heath (Lily May Peel)  female  35.0      1   \n",
       "4                             Allen, Mr. William Henry    male  35.0      0   \n",
       "..                                                 ...     ...   ...    ...   \n",
       "886                              Montvila, Rev. Juozas    male  27.0      0   \n",
       "887                       Graham, Miss. Margaret Edith  female  19.0      0   \n",
       "888           Johnston, Miss. Catherine Helen \"Carrie\"  female   NaN      1   \n",
       "889                              Behr, Mr. Karl Howell    male  26.0      0   \n",
       "890                                Dooley, Mr. Patrick    male  32.0      0   \n",
       "\n",
       "     Parch            Ticket     Fare Cabin Embarked  \n",
       "0        0         A/5 21171   7.2500   NaN        S  \n",
       "1        0          PC 17599  71.2833   C85        C  \n",
       "2        0  STON/O2. 3101282   7.9250   NaN        S  \n",
       "3        0            113803  53.1000  C123        S  \n",
       "4        0            373450   8.0500   NaN        S  \n",
       "..     ...               ...      ...   ...      ...  \n",
       "886      0            211536  13.0000   NaN        S  \n",
       "887      0            112053  30.0000   B42        S  \n",
       "888      2        W./C. 6607  23.4500   NaN        S  \n",
       "889      0            111369  30.0000  C148        C  \n",
       "890      0            370376   7.7500   NaN        Q  \n",
       "\n",
       "[891 rows x 12 columns]"
      ]
     },
     "execution_count": 3,
     "metadata": {},
     "output_type": "execute_result"
    }
   ],
   "source": [
    "df"
   ]
  },
  {
   "cell_type": "code",
   "execution_count": 4,
   "id": "1295ef18",
   "metadata": {
    "execution": {
     "iopub.execute_input": "2024-05-23T10:01:21.367115Z",
     "iopub.status.busy": "2024-05-23T10:01:21.366152Z",
     "iopub.status.idle": "2024-05-23T10:01:21.374958Z",
     "shell.execute_reply": "2024-05-23T10:01:21.373726Z"
    },
    "executionInfo": {
     "elapsed": 27,
     "status": "ok",
     "timestamp": 1716454470831,
     "user": {
      "displayName": "RUDRA KANTI PARIA",
      "userId": "12500779285996674123"
     },
     "user_tz": -330
    },
    "id": "N0KcxARDo7HG",
    "outputId": "c0a6564b-2623-457d-cc8f-01a1bd912abf",
    "papermill": {
     "duration": 0.030267,
     "end_time": "2024-05-23T10:01:21.377575",
     "exception": false,
     "start_time": "2024-05-23T10:01:21.347308",
     "status": "completed"
    },
    "tags": []
   },
   "outputs": [
    {
     "data": {
      "text/plain": [
       "(891, 12)"
      ]
     },
     "execution_count": 4,
     "metadata": {},
     "output_type": "execute_result"
    }
   ],
   "source": [
    "df.shape"
   ]
  },
  {
   "cell_type": "code",
   "execution_count": 5,
   "id": "e01579a2",
   "metadata": {
    "execution": {
     "iopub.execute_input": "2024-05-23T10:01:21.414998Z",
     "iopub.status.busy": "2024-05-23T10:01:21.414553Z",
     "iopub.status.idle": "2024-05-23T10:01:21.433488Z",
     "shell.execute_reply": "2024-05-23T10:01:21.432058Z"
    },
    "executionInfo": {
     "elapsed": 29,
     "status": "ok",
     "timestamp": 1716454484643,
     "user": {
      "displayName": "RUDRA KANTI PARIA",
      "userId": "12500779285996674123"
     },
     "user_tz": -330
    },
    "id": "zzVPS4J7o7J3",
    "outputId": "0e9fa21e-b725-411c-b95f-f7823bd8cc95",
    "papermill": {
     "duration": 0.040843,
     "end_time": "2024-05-23T10:01:21.436115",
     "exception": false,
     "start_time": "2024-05-23T10:01:21.395272",
     "status": "completed"
    },
    "tags": []
   },
   "outputs": [
    {
     "data": {
      "text/html": [
       "<div>\n",
       "<style scoped>\n",
       "    .dataframe tbody tr th:only-of-type {\n",
       "        vertical-align: middle;\n",
       "    }\n",
       "\n",
       "    .dataframe tbody tr th {\n",
       "        vertical-align: top;\n",
       "    }\n",
       "\n",
       "    .dataframe thead th {\n",
       "        text-align: right;\n",
       "    }\n",
       "</style>\n",
       "<table border=\"1\" class=\"dataframe\">\n",
       "  <thead>\n",
       "    <tr style=\"text-align: right;\">\n",
       "      <th></th>\n",
       "      <th>PassengerId</th>\n",
       "      <th>Survived</th>\n",
       "      <th>Pclass</th>\n",
       "      <th>Name</th>\n",
       "      <th>Sex</th>\n",
       "      <th>Age</th>\n",
       "      <th>SibSp</th>\n",
       "      <th>Parch</th>\n",
       "      <th>Ticket</th>\n",
       "      <th>Fare</th>\n",
       "      <th>Cabin</th>\n",
       "      <th>Embarked</th>\n",
       "    </tr>\n",
       "  </thead>\n",
       "  <tbody>\n",
       "    <tr>\n",
       "      <th>0</th>\n",
       "      <td>1</td>\n",
       "      <td>0</td>\n",
       "      <td>3</td>\n",
       "      <td>Braund, Mr. Owen Harris</td>\n",
       "      <td>male</td>\n",
       "      <td>22.0</td>\n",
       "      <td>1</td>\n",
       "      <td>0</td>\n",
       "      <td>A/5 21171</td>\n",
       "      <td>7.2500</td>\n",
       "      <td>NaN</td>\n",
       "      <td>S</td>\n",
       "    </tr>\n",
       "    <tr>\n",
       "      <th>1</th>\n",
       "      <td>2</td>\n",
       "      <td>1</td>\n",
       "      <td>1</td>\n",
       "      <td>Cumings, Mrs. John Bradley (Florence Briggs Th...</td>\n",
       "      <td>female</td>\n",
       "      <td>38.0</td>\n",
       "      <td>1</td>\n",
       "      <td>0</td>\n",
       "      <td>PC 17599</td>\n",
       "      <td>71.2833</td>\n",
       "      <td>C85</td>\n",
       "      <td>C</td>\n",
       "    </tr>\n",
       "    <tr>\n",
       "      <th>2</th>\n",
       "      <td>3</td>\n",
       "      <td>1</td>\n",
       "      <td>3</td>\n",
       "      <td>Heikkinen, Miss. Laina</td>\n",
       "      <td>female</td>\n",
       "      <td>26.0</td>\n",
       "      <td>0</td>\n",
       "      <td>0</td>\n",
       "      <td>STON/O2. 3101282</td>\n",
       "      <td>7.9250</td>\n",
       "      <td>NaN</td>\n",
       "      <td>S</td>\n",
       "    </tr>\n",
       "    <tr>\n",
       "      <th>3</th>\n",
       "      <td>4</td>\n",
       "      <td>1</td>\n",
       "      <td>1</td>\n",
       "      <td>Futrelle, Mrs. Jacques Heath (Lily May Peel)</td>\n",
       "      <td>female</td>\n",
       "      <td>35.0</td>\n",
       "      <td>1</td>\n",
       "      <td>0</td>\n",
       "      <td>113803</td>\n",
       "      <td>53.1000</td>\n",
       "      <td>C123</td>\n",
       "      <td>S</td>\n",
       "    </tr>\n",
       "    <tr>\n",
       "      <th>4</th>\n",
       "      <td>5</td>\n",
       "      <td>0</td>\n",
       "      <td>3</td>\n",
       "      <td>Allen, Mr. William Henry</td>\n",
       "      <td>male</td>\n",
       "      <td>35.0</td>\n",
       "      <td>0</td>\n",
       "      <td>0</td>\n",
       "      <td>373450</td>\n",
       "      <td>8.0500</td>\n",
       "      <td>NaN</td>\n",
       "      <td>S</td>\n",
       "    </tr>\n",
       "  </tbody>\n",
       "</table>\n",
       "</div>"
      ],
      "text/plain": [
       "   PassengerId  Survived  Pclass  \\\n",
       "0            1         0       3   \n",
       "1            2         1       1   \n",
       "2            3         1       3   \n",
       "3            4         1       1   \n",
       "4            5         0       3   \n",
       "\n",
       "                                                Name     Sex   Age  SibSp  \\\n",
       "0                            Braund, Mr. Owen Harris    male  22.0      1   \n",
       "1  Cumings, Mrs. John Bradley (Florence Briggs Th...  female  38.0      1   \n",
       "2                             Heikkinen, Miss. Laina  female  26.0      0   \n",
       "3       Futrelle, Mrs. Jacques Heath (Lily May Peel)  female  35.0      1   \n",
       "4                           Allen, Mr. William Henry    male  35.0      0   \n",
       "\n",
       "   Parch            Ticket     Fare Cabin Embarked  \n",
       "0      0         A/5 21171   7.2500   NaN        S  \n",
       "1      0          PC 17599  71.2833   C85        C  \n",
       "2      0  STON/O2. 3101282   7.9250   NaN        S  \n",
       "3      0            113803  53.1000  C123        S  \n",
       "4      0            373450   8.0500   NaN        S  "
      ]
     },
     "execution_count": 5,
     "metadata": {},
     "output_type": "execute_result"
    }
   ],
   "source": [
    "df.head()"
   ]
  },
  {
   "cell_type": "code",
   "execution_count": 6,
   "id": "a5808d46",
   "metadata": {
    "execution": {
     "iopub.execute_input": "2024-05-23T10:01:21.472638Z",
     "iopub.status.busy": "2024-05-23T10:01:21.472245Z",
     "iopub.status.idle": "2024-05-23T10:01:21.491258Z",
     "shell.execute_reply": "2024-05-23T10:01:21.490246Z"
    },
    "executionInfo": {
     "elapsed": 27,
     "status": "ok",
     "timestamp": 1716454508703,
     "user": {
      "displayName": "RUDRA KANTI PARIA",
      "userId": "12500779285996674123"
     },
     "user_tz": -330
    },
    "id": "pYp8r1s8o7Mh",
    "outputId": "268fdddb-bb2b-438f-d0fd-3d546b30da37",
    "papermill": {
     "duration": 0.040336,
     "end_time": "2024-05-23T10:01:21.493737",
     "exception": false,
     "start_time": "2024-05-23T10:01:21.453401",
     "status": "completed"
    },
    "tags": []
   },
   "outputs": [
    {
     "data": {
      "text/html": [
       "<div>\n",
       "<style scoped>\n",
       "    .dataframe tbody tr th:only-of-type {\n",
       "        vertical-align: middle;\n",
       "    }\n",
       "\n",
       "    .dataframe tbody tr th {\n",
       "        vertical-align: top;\n",
       "    }\n",
       "\n",
       "    .dataframe thead th {\n",
       "        text-align: right;\n",
       "    }\n",
       "</style>\n",
       "<table border=\"1\" class=\"dataframe\">\n",
       "  <thead>\n",
       "    <tr style=\"text-align: right;\">\n",
       "      <th></th>\n",
       "      <th>PassengerId</th>\n",
       "      <th>Survived</th>\n",
       "      <th>Pclass</th>\n",
       "      <th>Name</th>\n",
       "      <th>Sex</th>\n",
       "      <th>Age</th>\n",
       "      <th>SibSp</th>\n",
       "      <th>Parch</th>\n",
       "      <th>Ticket</th>\n",
       "      <th>Fare</th>\n",
       "      <th>Cabin</th>\n",
       "      <th>Embarked</th>\n",
       "    </tr>\n",
       "  </thead>\n",
       "  <tbody>\n",
       "    <tr>\n",
       "      <th>886</th>\n",
       "      <td>887</td>\n",
       "      <td>0</td>\n",
       "      <td>2</td>\n",
       "      <td>Montvila, Rev. Juozas</td>\n",
       "      <td>male</td>\n",
       "      <td>27.0</td>\n",
       "      <td>0</td>\n",
       "      <td>0</td>\n",
       "      <td>211536</td>\n",
       "      <td>13.00</td>\n",
       "      <td>NaN</td>\n",
       "      <td>S</td>\n",
       "    </tr>\n",
       "    <tr>\n",
       "      <th>887</th>\n",
       "      <td>888</td>\n",
       "      <td>1</td>\n",
       "      <td>1</td>\n",
       "      <td>Graham, Miss. Margaret Edith</td>\n",
       "      <td>female</td>\n",
       "      <td>19.0</td>\n",
       "      <td>0</td>\n",
       "      <td>0</td>\n",
       "      <td>112053</td>\n",
       "      <td>30.00</td>\n",
       "      <td>B42</td>\n",
       "      <td>S</td>\n",
       "    </tr>\n",
       "    <tr>\n",
       "      <th>888</th>\n",
       "      <td>889</td>\n",
       "      <td>0</td>\n",
       "      <td>3</td>\n",
       "      <td>Johnston, Miss. Catherine Helen \"Carrie\"</td>\n",
       "      <td>female</td>\n",
       "      <td>NaN</td>\n",
       "      <td>1</td>\n",
       "      <td>2</td>\n",
       "      <td>W./C. 6607</td>\n",
       "      <td>23.45</td>\n",
       "      <td>NaN</td>\n",
       "      <td>S</td>\n",
       "    </tr>\n",
       "    <tr>\n",
       "      <th>889</th>\n",
       "      <td>890</td>\n",
       "      <td>1</td>\n",
       "      <td>1</td>\n",
       "      <td>Behr, Mr. Karl Howell</td>\n",
       "      <td>male</td>\n",
       "      <td>26.0</td>\n",
       "      <td>0</td>\n",
       "      <td>0</td>\n",
       "      <td>111369</td>\n",
       "      <td>30.00</td>\n",
       "      <td>C148</td>\n",
       "      <td>C</td>\n",
       "    </tr>\n",
       "    <tr>\n",
       "      <th>890</th>\n",
       "      <td>891</td>\n",
       "      <td>0</td>\n",
       "      <td>3</td>\n",
       "      <td>Dooley, Mr. Patrick</td>\n",
       "      <td>male</td>\n",
       "      <td>32.0</td>\n",
       "      <td>0</td>\n",
       "      <td>0</td>\n",
       "      <td>370376</td>\n",
       "      <td>7.75</td>\n",
       "      <td>NaN</td>\n",
       "      <td>Q</td>\n",
       "    </tr>\n",
       "  </tbody>\n",
       "</table>\n",
       "</div>"
      ],
      "text/plain": [
       "     PassengerId  Survived  Pclass                                      Name  \\\n",
       "886          887         0       2                     Montvila, Rev. Juozas   \n",
       "887          888         1       1              Graham, Miss. Margaret Edith   \n",
       "888          889         0       3  Johnston, Miss. Catherine Helen \"Carrie\"   \n",
       "889          890         1       1                     Behr, Mr. Karl Howell   \n",
       "890          891         0       3                       Dooley, Mr. Patrick   \n",
       "\n",
       "        Sex   Age  SibSp  Parch      Ticket   Fare Cabin Embarked  \n",
       "886    male  27.0      0      0      211536  13.00   NaN        S  \n",
       "887  female  19.0      0      0      112053  30.00   B42        S  \n",
       "888  female   NaN      1      2  W./C. 6607  23.45   NaN        S  \n",
       "889    male  26.0      0      0      111369  30.00  C148        C  \n",
       "890    male  32.0      0      0      370376   7.75   NaN        Q  "
      ]
     },
     "execution_count": 6,
     "metadata": {},
     "output_type": "execute_result"
    }
   ],
   "source": [
    "df.tail()"
   ]
  },
  {
   "cell_type": "code",
   "execution_count": 7,
   "id": "65a27f73",
   "metadata": {
    "execution": {
     "iopub.execute_input": "2024-05-23T10:01:21.533109Z",
     "iopub.status.busy": "2024-05-23T10:01:21.532633Z",
     "iopub.status.idle": "2024-05-23T10:01:21.572019Z",
     "shell.execute_reply": "2024-05-23T10:01:21.570759Z"
    },
    "executionInfo": {
     "elapsed": 852,
     "status": "ok",
     "timestamp": 1716454517203,
     "user": {
      "displayName": "RUDRA KANTI PARIA",
      "userId": "12500779285996674123"
     },
     "user_tz": -330
    },
    "id": "jVRMycd2qQE2",
    "outputId": "ef85e15e-cf8d-4812-f399-194285543998",
    "papermill": {
     "duration": 0.062531,
     "end_time": "2024-05-23T10:01:21.574608",
     "exception": false,
     "start_time": "2024-05-23T10:01:21.512077",
     "status": "completed"
    },
    "tags": []
   },
   "outputs": [
    {
     "data": {
      "text/html": [
       "<div>\n",
       "<style scoped>\n",
       "    .dataframe tbody tr th:only-of-type {\n",
       "        vertical-align: middle;\n",
       "    }\n",
       "\n",
       "    .dataframe tbody tr th {\n",
       "        vertical-align: top;\n",
       "    }\n",
       "\n",
       "    .dataframe thead th {\n",
       "        text-align: right;\n",
       "    }\n",
       "</style>\n",
       "<table border=\"1\" class=\"dataframe\">\n",
       "  <thead>\n",
       "    <tr style=\"text-align: right;\">\n",
       "      <th></th>\n",
       "      <th>PassengerId</th>\n",
       "      <th>Survived</th>\n",
       "      <th>Pclass</th>\n",
       "      <th>Age</th>\n",
       "      <th>SibSp</th>\n",
       "      <th>Parch</th>\n",
       "      <th>Fare</th>\n",
       "    </tr>\n",
       "  </thead>\n",
       "  <tbody>\n",
       "    <tr>\n",
       "      <th>count</th>\n",
       "      <td>891.000000</td>\n",
       "      <td>891.000000</td>\n",
       "      <td>891.000000</td>\n",
       "      <td>714.000000</td>\n",
       "      <td>891.000000</td>\n",
       "      <td>891.000000</td>\n",
       "      <td>891.000000</td>\n",
       "    </tr>\n",
       "    <tr>\n",
       "      <th>mean</th>\n",
       "      <td>446.000000</td>\n",
       "      <td>0.383838</td>\n",
       "      <td>2.308642</td>\n",
       "      <td>29.699118</td>\n",
       "      <td>0.523008</td>\n",
       "      <td>0.381594</td>\n",
       "      <td>32.204208</td>\n",
       "    </tr>\n",
       "    <tr>\n",
       "      <th>std</th>\n",
       "      <td>257.353842</td>\n",
       "      <td>0.486592</td>\n",
       "      <td>0.836071</td>\n",
       "      <td>14.526497</td>\n",
       "      <td>1.102743</td>\n",
       "      <td>0.806057</td>\n",
       "      <td>49.693429</td>\n",
       "    </tr>\n",
       "    <tr>\n",
       "      <th>min</th>\n",
       "      <td>1.000000</td>\n",
       "      <td>0.000000</td>\n",
       "      <td>1.000000</td>\n",
       "      <td>0.420000</td>\n",
       "      <td>0.000000</td>\n",
       "      <td>0.000000</td>\n",
       "      <td>0.000000</td>\n",
       "    </tr>\n",
       "    <tr>\n",
       "      <th>25%</th>\n",
       "      <td>223.500000</td>\n",
       "      <td>0.000000</td>\n",
       "      <td>2.000000</td>\n",
       "      <td>20.125000</td>\n",
       "      <td>0.000000</td>\n",
       "      <td>0.000000</td>\n",
       "      <td>7.910400</td>\n",
       "    </tr>\n",
       "    <tr>\n",
       "      <th>50%</th>\n",
       "      <td>446.000000</td>\n",
       "      <td>0.000000</td>\n",
       "      <td>3.000000</td>\n",
       "      <td>28.000000</td>\n",
       "      <td>0.000000</td>\n",
       "      <td>0.000000</td>\n",
       "      <td>14.454200</td>\n",
       "    </tr>\n",
       "    <tr>\n",
       "      <th>75%</th>\n",
       "      <td>668.500000</td>\n",
       "      <td>1.000000</td>\n",
       "      <td>3.000000</td>\n",
       "      <td>38.000000</td>\n",
       "      <td>1.000000</td>\n",
       "      <td>0.000000</td>\n",
       "      <td>31.000000</td>\n",
       "    </tr>\n",
       "    <tr>\n",
       "      <th>max</th>\n",
       "      <td>891.000000</td>\n",
       "      <td>1.000000</td>\n",
       "      <td>3.000000</td>\n",
       "      <td>80.000000</td>\n",
       "      <td>8.000000</td>\n",
       "      <td>6.000000</td>\n",
       "      <td>512.329200</td>\n",
       "    </tr>\n",
       "  </tbody>\n",
       "</table>\n",
       "</div>"
      ],
      "text/plain": [
       "       PassengerId    Survived      Pclass         Age       SibSp  \\\n",
       "count   891.000000  891.000000  891.000000  714.000000  891.000000   \n",
       "mean    446.000000    0.383838    2.308642   29.699118    0.523008   \n",
       "std     257.353842    0.486592    0.836071   14.526497    1.102743   \n",
       "min       1.000000    0.000000    1.000000    0.420000    0.000000   \n",
       "25%     223.500000    0.000000    2.000000   20.125000    0.000000   \n",
       "50%     446.000000    0.000000    3.000000   28.000000    0.000000   \n",
       "75%     668.500000    1.000000    3.000000   38.000000    1.000000   \n",
       "max     891.000000    1.000000    3.000000   80.000000    8.000000   \n",
       "\n",
       "            Parch        Fare  \n",
       "count  891.000000  891.000000  \n",
       "mean     0.381594   32.204208  \n",
       "std      0.806057   49.693429  \n",
       "min      0.000000    0.000000  \n",
       "25%      0.000000    7.910400  \n",
       "50%      0.000000   14.454200  \n",
       "75%      0.000000   31.000000  \n",
       "max      6.000000  512.329200  "
      ]
     },
     "execution_count": 7,
     "metadata": {},
     "output_type": "execute_result"
    }
   ],
   "source": [
    "df.describe()"
   ]
  },
  {
   "cell_type": "code",
   "execution_count": 8,
   "id": "7c91714d",
   "metadata": {
    "execution": {
     "iopub.execute_input": "2024-05-23T10:01:21.614526Z",
     "iopub.status.busy": "2024-05-23T10:01:21.614047Z",
     "iopub.status.idle": "2024-05-23T10:01:21.648810Z",
     "shell.execute_reply": "2024-05-23T10:01:21.647543Z"
    },
    "executionInfo": {
     "elapsed": 17,
     "status": "ok",
     "timestamp": 1716454525999,
     "user": {
      "displayName": "RUDRA KANTI PARIA",
      "userId": "12500779285996674123"
     },
     "user_tz": -330
    },
    "id": "R3W8wgq0qQHq",
    "outputId": "c87a0d22-e097-4f75-8b53-10b6d3389a2f",
    "papermill": {
     "duration": 0.058266,
     "end_time": "2024-05-23T10:01:21.652048",
     "exception": false,
     "start_time": "2024-05-23T10:01:21.593782",
     "status": "completed"
    },
    "tags": []
   },
   "outputs": [
    {
     "data": {
      "text/html": [
       "<div>\n",
       "<style scoped>\n",
       "    .dataframe tbody tr th:only-of-type {\n",
       "        vertical-align: middle;\n",
       "    }\n",
       "\n",
       "    .dataframe tbody tr th {\n",
       "        vertical-align: top;\n",
       "    }\n",
       "\n",
       "    .dataframe thead th {\n",
       "        text-align: right;\n",
       "    }\n",
       "</style>\n",
       "<table border=\"1\" class=\"dataframe\">\n",
       "  <thead>\n",
       "    <tr style=\"text-align: right;\">\n",
       "      <th></th>\n",
       "      <th>PassengerId</th>\n",
       "      <th>Survived</th>\n",
       "      <th>Pclass</th>\n",
       "      <th>Age</th>\n",
       "      <th>SibSp</th>\n",
       "      <th>Parch</th>\n",
       "      <th>Fare</th>\n",
       "    </tr>\n",
       "  </thead>\n",
       "  <tbody>\n",
       "    <tr>\n",
       "      <th>count</th>\n",
       "      <td>891.000000</td>\n",
       "      <td>891.000000</td>\n",
       "      <td>891.000000</td>\n",
       "      <td>714.000000</td>\n",
       "      <td>891.000000</td>\n",
       "      <td>891.000000</td>\n",
       "      <td>891.000000</td>\n",
       "    </tr>\n",
       "    <tr>\n",
       "      <th>mean</th>\n",
       "      <td>446.000000</td>\n",
       "      <td>0.383838</td>\n",
       "      <td>2.308642</td>\n",
       "      <td>29.699118</td>\n",
       "      <td>0.523008</td>\n",
       "      <td>0.381594</td>\n",
       "      <td>32.204208</td>\n",
       "    </tr>\n",
       "    <tr>\n",
       "      <th>std</th>\n",
       "      <td>257.353842</td>\n",
       "      <td>0.486592</td>\n",
       "      <td>0.836071</td>\n",
       "      <td>14.526497</td>\n",
       "      <td>1.102743</td>\n",
       "      <td>0.806057</td>\n",
       "      <td>49.693429</td>\n",
       "    </tr>\n",
       "    <tr>\n",
       "      <th>min</th>\n",
       "      <td>1.000000</td>\n",
       "      <td>0.000000</td>\n",
       "      <td>1.000000</td>\n",
       "      <td>0.420000</td>\n",
       "      <td>0.000000</td>\n",
       "      <td>0.000000</td>\n",
       "      <td>0.000000</td>\n",
       "    </tr>\n",
       "    <tr>\n",
       "      <th>25%</th>\n",
       "      <td>223.500000</td>\n",
       "      <td>0.000000</td>\n",
       "      <td>2.000000</td>\n",
       "      <td>20.125000</td>\n",
       "      <td>0.000000</td>\n",
       "      <td>0.000000</td>\n",
       "      <td>7.910400</td>\n",
       "    </tr>\n",
       "    <tr>\n",
       "      <th>50%</th>\n",
       "      <td>446.000000</td>\n",
       "      <td>0.000000</td>\n",
       "      <td>3.000000</td>\n",
       "      <td>28.000000</td>\n",
       "      <td>0.000000</td>\n",
       "      <td>0.000000</td>\n",
       "      <td>14.454200</td>\n",
       "    </tr>\n",
       "    <tr>\n",
       "      <th>75%</th>\n",
       "      <td>668.500000</td>\n",
       "      <td>1.000000</td>\n",
       "      <td>3.000000</td>\n",
       "      <td>38.000000</td>\n",
       "      <td>1.000000</td>\n",
       "      <td>0.000000</td>\n",
       "      <td>31.000000</td>\n",
       "    </tr>\n",
       "    <tr>\n",
       "      <th>max</th>\n",
       "      <td>891.000000</td>\n",
       "      <td>1.000000</td>\n",
       "      <td>3.000000</td>\n",
       "      <td>80.000000</td>\n",
       "      <td>8.000000</td>\n",
       "      <td>6.000000</td>\n",
       "      <td>512.329200</td>\n",
       "    </tr>\n",
       "  </tbody>\n",
       "</table>\n",
       "</div>"
      ],
      "text/plain": [
       "       PassengerId    Survived      Pclass         Age       SibSp  \\\n",
       "count   891.000000  891.000000  891.000000  714.000000  891.000000   \n",
       "mean    446.000000    0.383838    2.308642   29.699118    0.523008   \n",
       "std     257.353842    0.486592    0.836071   14.526497    1.102743   \n",
       "min       1.000000    0.000000    1.000000    0.420000    0.000000   \n",
       "25%     223.500000    0.000000    2.000000   20.125000    0.000000   \n",
       "50%     446.000000    0.000000    3.000000   28.000000    0.000000   \n",
       "75%     668.500000    1.000000    3.000000   38.000000    1.000000   \n",
       "max     891.000000    1.000000    3.000000   80.000000    8.000000   \n",
       "\n",
       "            Parch        Fare  \n",
       "count  891.000000  891.000000  \n",
       "mean     0.381594   32.204208  \n",
       "std      0.806057   49.693429  \n",
       "min      0.000000    0.000000  \n",
       "25%      0.000000    7.910400  \n",
       "50%      0.000000   14.454200  \n",
       "75%      0.000000   31.000000  \n",
       "max      6.000000  512.329200  "
      ]
     },
     "execution_count": 8,
     "metadata": {},
     "output_type": "execute_result"
    }
   ],
   "source": [
    "df.describe()"
   ]
  },
  {
   "cell_type": "code",
   "execution_count": 9,
   "id": "3b90ab19",
   "metadata": {
    "execution": {
     "iopub.execute_input": "2024-05-23T10:01:21.691360Z",
     "iopub.status.busy": "2024-05-23T10:01:21.690197Z",
     "iopub.status.idle": "2024-05-23T10:01:21.705916Z",
     "shell.execute_reply": "2024-05-23T10:01:21.704718Z"
    },
    "executionInfo": {
     "elapsed": 12,
     "status": "ok",
     "timestamp": 1716454672348,
     "user": {
      "displayName": "RUDRA KANTI PARIA",
      "userId": "12500779285996674123"
     },
     "user_tz": -330
    },
    "id": "RGB-m84iqQKS",
    "outputId": "536262b3-a886-47ab-9007-aa3d624e3d0e",
    "papermill": {
     "duration": 0.038104,
     "end_time": "2024-05-23T10:01:21.708548",
     "exception": false,
     "start_time": "2024-05-23T10:01:21.670444",
     "status": "completed"
    },
    "tags": []
   },
   "outputs": [
    {
     "data": {
      "text/plain": [
       "0"
      ]
     },
     "execution_count": 9,
     "metadata": {},
     "output_type": "execute_result"
    }
   ],
   "source": [
    "df.duplicated().sum()"
   ]
  },
  {
   "cell_type": "code",
   "execution_count": 10,
   "id": "b37d0036",
   "metadata": {
    "execution": {
     "iopub.execute_input": "2024-05-23T10:01:21.749448Z",
     "iopub.status.busy": "2024-05-23T10:01:21.748926Z",
     "iopub.status.idle": "2024-05-23T10:01:21.766296Z",
     "shell.execute_reply": "2024-05-23T10:01:21.764918Z"
    },
    "executionInfo": {
     "elapsed": 509,
     "status": "ok",
     "timestamp": 1716454687344,
     "user": {
      "displayName": "RUDRA KANTI PARIA",
      "userId": "12500779285996674123"
     },
     "user_tz": -330
    },
    "id": "s_ZXDLhiqQMz",
    "papermill": {
     "duration": 0.041358,
     "end_time": "2024-05-23T10:01:21.769315",
     "exception": false,
     "start_time": "2024-05-23T10:01:21.727957",
     "status": "completed"
    },
    "tags": []
   },
   "outputs": [],
   "source": [
    "Survived = df['Survived'].value_counts().reset_index()\n"
   ]
  },
  {
   "cell_type": "code",
   "execution_count": 11,
   "id": "13bc2482",
   "metadata": {
    "execution": {
     "iopub.execute_input": "2024-05-23T10:01:21.809368Z",
     "iopub.status.busy": "2024-05-23T10:01:21.808448Z",
     "iopub.status.idle": "2024-05-23T10:01:21.818301Z",
     "shell.execute_reply": "2024-05-23T10:01:21.817318Z"
    },
    "executionInfo": {
     "elapsed": 6,
     "status": "ok",
     "timestamp": 1716454689982,
     "user": {
      "displayName": "RUDRA KANTI PARIA",
      "userId": "12500779285996674123"
     },
     "user_tz": -330
    },
    "id": "H7eTEfMmo7PZ",
    "outputId": "2f51491b-8803-4a2e-9672-7408ddecc445",
    "papermill": {
     "duration": 0.032838,
     "end_time": "2024-05-23T10:01:21.820758",
     "exception": false,
     "start_time": "2024-05-23T10:01:21.787920",
     "status": "completed"
    },
    "tags": []
   },
   "outputs": [
    {
     "data": {
      "text/html": [
       "<div>\n",
       "<style scoped>\n",
       "    .dataframe tbody tr th:only-of-type {\n",
       "        vertical-align: middle;\n",
       "    }\n",
       "\n",
       "    .dataframe tbody tr th {\n",
       "        vertical-align: top;\n",
       "    }\n",
       "\n",
       "    .dataframe thead th {\n",
       "        text-align: right;\n",
       "    }\n",
       "</style>\n",
       "<table border=\"1\" class=\"dataframe\">\n",
       "  <thead>\n",
       "    <tr style=\"text-align: right;\">\n",
       "      <th></th>\n",
       "      <th>Survived</th>\n",
       "      <th>count</th>\n",
       "    </tr>\n",
       "  </thead>\n",
       "  <tbody>\n",
       "    <tr>\n",
       "      <th>0</th>\n",
       "      <td>0</td>\n",
       "      <td>549</td>\n",
       "    </tr>\n",
       "    <tr>\n",
       "      <th>1</th>\n",
       "      <td>1</td>\n",
       "      <td>342</td>\n",
       "    </tr>\n",
       "  </tbody>\n",
       "</table>\n",
       "</div>"
      ],
      "text/plain": [
       "   Survived  count\n",
       "0         0    549\n",
       "1         1    342"
      ]
     },
     "execution_count": 11,
     "metadata": {},
     "output_type": "execute_result"
    }
   ],
   "source": [
    "Survived"
   ]
  },
  {
   "cell_type": "code",
   "execution_count": 12,
   "id": "229f5b2d",
   "metadata": {
    "execution": {
     "iopub.execute_input": "2024-05-23T10:01:21.864178Z",
     "iopub.status.busy": "2024-05-23T10:01:21.863391Z",
     "iopub.status.idle": "2024-05-23T10:01:22.186281Z",
     "shell.execute_reply": "2024-05-23T10:01:22.184905Z"
    },
    "executionInfo": {
     "elapsed": 907,
     "status": "ok",
     "timestamp": 1716458116278,
     "user": {
      "displayName": "RUDRA KANTI PARIA",
      "userId": "12500779285996674123"
     },
     "user_tz": -330
    },
    "id": "1_46JnKsrAux",
    "outputId": "2bd40cf0-6c72-4678-dcc2-70f3c36fc06d",
    "papermill": {
     "duration": 0.348454,
     "end_time": "2024-05-23T10:01:22.189268",
     "exception": false,
     "start_time": "2024-05-23T10:01:21.840814",
     "status": "completed"
    },
    "tags": []
   },
   "outputs": [
    {
     "data": {
      "image/png": "[encoded data removed]",
      "text/plain": [
       "<Figure size 800x600 with 1 Axes>"
      ]
     },
     "metadata": {},
     "output_type": "display_data"
    }
   ],
   "source": [
    "data = {'Survived': ['Male - No', 'Male - Yes', 'Female - No', 'Female - Yes'],\n",
    "        'Counts': [100, 50, 30, 80]}  # replace with actual counts\n",
    "Survived = pd.DataFrame(data)\n",
    "\n",
    "plt.figure(figsize=(8, 6))\n",
    "plt.bar(Survived['Survived'], Survived['Counts'],color=[\"Black\",\"blue\",\"red\",\"pink\"])\n",
    "plt.xticks(Survived['Survived'])\n",
    "plt.title('Comparison of Survival')\n",
    "plt.xlabel('Gender and Survival Status')\n",
    "plt.ylabel('Number of People')\n",
    "plt.show()"
   ]
  },
  {
   "cell_type": "code",
   "execution_count": 13,
   "id": "5a3aaf3e",
   "metadata": {
    "execution": {
     "iopub.execute_input": "2024-05-23T10:01:22.231098Z",
     "iopub.status.busy": "2024-05-23T10:01:22.229842Z",
     "iopub.status.idle": "2024-05-23T10:01:22.248714Z",
     "shell.execute_reply": "2024-05-23T10:01:22.247135Z"
    },
    "executionInfo": {
     "elapsed": 16,
     "status": "ok",
     "timestamp": 1716454974180,
     "user": {
      "displayName": "RUDRA KANTI PARIA",
      "userId": "12500779285996674123"
     },
     "user_tz": -330
    },
    "id": "wJBGmzIwrAxe",
    "outputId": "d1895656-82b1-478a-9a59-3b9df008cd13",
    "papermill": {
     "duration": 0.042602,
     "end_time": "2024-05-23T10:01:22.251760",
     "exception": false,
     "start_time": "2024-05-23T10:01:22.209158",
     "status": "completed"
    },
    "tags": []
   },
   "outputs": [
    {
     "data": {
      "text/html": [
       "<div>\n",
       "<style scoped>\n",
       "    .dataframe tbody tr th:only-of-type {\n",
       "        vertical-align: middle;\n",
       "    }\n",
       "\n",
       "    .dataframe tbody tr th {\n",
       "        vertical-align: top;\n",
       "    }\n",
       "\n",
       "    .dataframe thead th {\n",
       "        text-align: right;\n",
       "    }\n",
       "</style>\n",
       "<table border=\"1\" class=\"dataframe\">\n",
       "  <thead>\n",
       "    <tr style=\"text-align: right;\">\n",
       "      <th></th>\n",
       "      <th>Survived</th>\n",
       "      <th>Pclass</th>\n",
       "      <th>Sex</th>\n",
       "      <th>Age</th>\n",
       "      <th>Fare</th>\n",
       "    </tr>\n",
       "  </thead>\n",
       "  <tbody>\n",
       "    <tr>\n",
       "      <th>0</th>\n",
       "      <td>0</td>\n",
       "      <td>3</td>\n",
       "      <td>male</td>\n",
       "      <td>22.0</td>\n",
       "      <td>7.2500</td>\n",
       "    </tr>\n",
       "    <tr>\n",
       "      <th>1</th>\n",
       "      <td>1</td>\n",
       "      <td>1</td>\n",
       "      <td>female</td>\n",
       "      <td>38.0</td>\n",
       "      <td>71.2833</td>\n",
       "    </tr>\n",
       "    <tr>\n",
       "      <th>2</th>\n",
       "      <td>1</td>\n",
       "      <td>3</td>\n",
       "      <td>female</td>\n",
       "      <td>26.0</td>\n",
       "      <td>7.9250</td>\n",
       "    </tr>\n",
       "    <tr>\n",
       "      <th>3</th>\n",
       "      <td>1</td>\n",
       "      <td>1</td>\n",
       "      <td>female</td>\n",
       "      <td>35.0</td>\n",
       "      <td>53.1000</td>\n",
       "    </tr>\n",
       "    <tr>\n",
       "      <th>4</th>\n",
       "      <td>0</td>\n",
       "      <td>3</td>\n",
       "      <td>male</td>\n",
       "      <td>35.0</td>\n",
       "      <td>8.0500</td>\n",
       "    </tr>\n",
       "  </tbody>\n",
       "</table>\n",
       "</div>"
      ],
      "text/plain": [
       "   Survived  Pclass     Sex   Age     Fare\n",
       "0         0       3    male  22.0   7.2500\n",
       "1         1       1  female  38.0  71.2833\n",
       "2         1       3  female  26.0   7.9250\n",
       "3         1       1  female  35.0  53.1000\n",
       "4         0       3    male  35.0   8.0500"
      ]
     },
     "execution_count": 13,
     "metadata": {},
     "output_type": "execute_result"
    }
   ],
   "source": [
    "df.drop(['PassengerId','Name','SibSp','Parch','Ticket','Cabin','Embarked'],axis='columns',inplace=True)\n",
    "df.head()"
   ]
  },
  {
   "cell_type": "code",
   "execution_count": 14,
   "id": "a8529d8e",
   "metadata": {
    "execution": {
     "iopub.execute_input": "2024-05-23T10:01:22.293381Z",
     "iopub.status.busy": "2024-05-23T10:01:22.292908Z",
     "iopub.status.idle": "2024-05-23T10:01:22.299747Z",
     "shell.execute_reply": "2024-05-23T10:01:22.298506Z"
    },
    "executionInfo": {
     "elapsed": 8,
     "status": "ok",
     "timestamp": 1716454986922,
     "user": {
      "displayName": "RUDRA KANTI PARIA",
      "userId": "12500779285996674123"
     },
     "user_tz": -330
    },
    "id": "6VgRoDZPrA0A",
    "papermill": {
     "duration": 0.031035,
     "end_time": "2024-05-23T10:01:22.302259",
     "exception": false,
     "start_time": "2024-05-23T10:01:22.271224",
     "status": "completed"
    },
    "tags": []
   },
   "outputs": [],
   "source": [
    "inputs = df.drop('Survived',axis='columns')\n",
    "target = df['Survived']"
   ]
  },
  {
   "cell_type": "code",
   "execution_count": 15,
   "id": "f56e30b0",
   "metadata": {
    "execution": {
     "iopub.execute_input": "2024-05-23T10:01:22.343987Z",
     "iopub.status.busy": "2024-05-23T10:01:22.343554Z",
     "iopub.status.idle": "2024-05-23T10:01:22.352011Z",
     "shell.execute_reply": "2024-05-23T10:01:22.351177Z"
    },
    "executionInfo": {
     "elapsed": 518,
     "status": "ok",
     "timestamp": 1716455000390,
     "user": {
      "displayName": "RUDRA KANTI PARIA",
      "userId": "12500779285996674123"
     },
     "user_tz": -330
    },
    "id": "RgeQYR2irA2d",
    "outputId": "f309522d-dd54-4d2b-cad1-671f7cdd05b5",
    "papermill": {
     "duration": 0.032713,
     "end_time": "2024-05-23T10:01:22.354508",
     "exception": false,
     "start_time": "2024-05-23T10:01:22.321795",
     "status": "completed"
    },
    "tags": []
   },
   "outputs": [
    {
     "data": {
      "text/plain": [
       "0      0\n",
       "1      1\n",
       "2      1\n",
       "3      1\n",
       "4      0\n",
       "      ..\n",
       "886    0\n",
       "887    1\n",
       "888    0\n",
       "889    1\n",
       "890    0\n",
       "Name: Survived, Length: 891, dtype: int64"
      ]
     },
     "execution_count": 15,
     "metadata": {},
     "output_type": "execute_result"
    }
   ],
   "source": [
    "target"
   ]
  },
  {
   "cell_type": "code",
   "execution_count": 16,
   "id": "b2e5091c",
   "metadata": {
    "execution": {
     "iopub.execute_input": "2024-05-23T10:01:22.395892Z",
     "iopub.status.busy": "2024-05-23T10:01:22.395472Z",
     "iopub.status.idle": "2024-05-23T10:01:22.409481Z",
     "shell.execute_reply": "2024-05-23T10:01:22.408265Z"
    },
    "executionInfo": {
     "elapsed": 7,
     "status": "ok",
     "timestamp": 1716455081445,
     "user": {
      "displayName": "RUDRA KANTI PARIA",
      "userId": "12500779285996674123"
     },
     "user_tz": -330
    },
    "id": "EhM4y45TrA4-",
    "outputId": "ef853426-84c6-4e05-d21b-29d6fd6a0ff6",
    "papermill": {
     "duration": 0.037569,
     "end_time": "2024-05-23T10:01:22.411727",
     "exception": false,
     "start_time": "2024-05-23T10:01:22.374158",
     "status": "completed"
    },
    "tags": []
   },
   "outputs": [
    {
     "data": {
      "text/html": [
       "<div>\n",
       "<style scoped>\n",
       "    .dataframe tbody tr th:only-of-type {\n",
       "        vertical-align: middle;\n",
       "    }\n",
       "\n",
       "    .dataframe tbody tr th {\n",
       "        vertical-align: top;\n",
       "    }\n",
       "\n",
       "    .dataframe thead th {\n",
       "        text-align: right;\n",
       "    }\n",
       "</style>\n",
       "<table border=\"1\" class=\"dataframe\">\n",
       "  <thead>\n",
       "    <tr style=\"text-align: right;\">\n",
       "      <th></th>\n",
       "      <th>female</th>\n",
       "      <th>male</th>\n",
       "    </tr>\n",
       "  </thead>\n",
       "  <tbody>\n",
       "    <tr>\n",
       "      <th>0</th>\n",
       "      <td>False</td>\n",
       "      <td>True</td>\n",
       "    </tr>\n",
       "    <tr>\n",
       "      <th>1</th>\n",
       "      <td>True</td>\n",
       "      <td>False</td>\n",
       "    </tr>\n",
       "    <tr>\n",
       "      <th>2</th>\n",
       "      <td>True</td>\n",
       "      <td>False</td>\n",
       "    </tr>\n",
       "    <tr>\n",
       "      <th>3</th>\n",
       "      <td>True</td>\n",
       "      <td>False</td>\n",
       "    </tr>\n",
       "    <tr>\n",
       "      <th>4</th>\n",
       "      <td>False</td>\n",
       "      <td>True</td>\n",
       "    </tr>\n",
       "  </tbody>\n",
       "</table>\n",
       "</div>"
      ],
      "text/plain": [
       "   female   male\n",
       "0   False   True\n",
       "1    True  False\n",
       "2    True  False\n",
       "3    True  False\n",
       "4   False   True"
      ]
     },
     "execution_count": 16,
     "metadata": {},
     "output_type": "execute_result"
    }
   ],
   "source": [
    "sex=pd.get_dummies(inputs.Sex)\n",
    "sex.head()"
   ]
  },
  {
   "cell_type": "code",
   "execution_count": 17,
   "id": "8d142ed6",
   "metadata": {
    "execution": {
     "iopub.execute_input": "2024-05-23T10:01:22.454412Z",
     "iopub.status.busy": "2024-05-23T10:01:22.453940Z",
     "iopub.status.idle": "2024-05-23T10:01:22.470762Z",
     "shell.execute_reply": "2024-05-23T10:01:22.469429Z"
    },
    "executionInfo": {
     "elapsed": 729,
     "status": "ok",
     "timestamp": 1716455098284,
     "user": {
      "displayName": "RUDRA KANTI PARIA",
      "userId": "12500779285996674123"
     },
     "user_tz": -330
    },
    "id": "IpK9xfdHsgVv",
    "outputId": "1030eb0c-85ff-4815-8ecb-9412ec527410",
    "papermill": {
     "duration": 0.040802,
     "end_time": "2024-05-23T10:01:22.473320",
     "exception": false,
     "start_time": "2024-05-23T10:01:22.432518",
     "status": "completed"
    },
    "tags": []
   },
   "outputs": [
    {
     "data": {
      "text/html": [
       "<div>\n",
       "<style scoped>\n",
       "    .dataframe tbody tr th:only-of-type {\n",
       "        vertical-align: middle;\n",
       "    }\n",
       "\n",
       "    .dataframe tbody tr th {\n",
       "        vertical-align: top;\n",
       "    }\n",
       "\n",
       "    .dataframe thead th {\n",
       "        text-align: right;\n",
       "    }\n",
       "</style>\n",
       "<table border=\"1\" class=\"dataframe\">\n",
       "  <thead>\n",
       "    <tr style=\"text-align: right;\">\n",
       "      <th></th>\n",
       "      <th>Pclass</th>\n",
       "      <th>Sex</th>\n",
       "      <th>Age</th>\n",
       "      <th>Fare</th>\n",
       "      <th>female</th>\n",
       "      <th>male</th>\n",
       "    </tr>\n",
       "  </thead>\n",
       "  <tbody>\n",
       "    <tr>\n",
       "      <th>0</th>\n",
       "      <td>3</td>\n",
       "      <td>male</td>\n",
       "      <td>22.0</td>\n",
       "      <td>7.2500</td>\n",
       "      <td>False</td>\n",
       "      <td>True</td>\n",
       "    </tr>\n",
       "    <tr>\n",
       "      <th>1</th>\n",
       "      <td>1</td>\n",
       "      <td>female</td>\n",
       "      <td>38.0</td>\n",
       "      <td>71.2833</td>\n",
       "      <td>True</td>\n",
       "      <td>False</td>\n",
       "    </tr>\n",
       "    <tr>\n",
       "      <th>2</th>\n",
       "      <td>3</td>\n",
       "      <td>female</td>\n",
       "      <td>26.0</td>\n",
       "      <td>7.9250</td>\n",
       "      <td>True</td>\n",
       "      <td>False</td>\n",
       "    </tr>\n",
       "    <tr>\n",
       "      <th>3</th>\n",
       "      <td>1</td>\n",
       "      <td>female</td>\n",
       "      <td>35.0</td>\n",
       "      <td>53.1000</td>\n",
       "      <td>True</td>\n",
       "      <td>False</td>\n",
       "    </tr>\n",
       "    <tr>\n",
       "      <th>4</th>\n",
       "      <td>3</td>\n",
       "      <td>male</td>\n",
       "      <td>35.0</td>\n",
       "      <td>8.0500</td>\n",
       "      <td>False</td>\n",
       "      <td>True</td>\n",
       "    </tr>\n",
       "  </tbody>\n",
       "</table>\n",
       "</div>"
      ],
      "text/plain": [
       "   Pclass     Sex   Age     Fare  female   male\n",
       "0       3    male  22.0   7.2500   False   True\n",
       "1       1  female  38.0  71.2833    True  False\n",
       "2       3  female  26.0   7.9250    True  False\n",
       "3       1  female  35.0  53.1000    True  False\n",
       "4       3    male  35.0   8.0500   False   True"
      ]
     },
     "execution_count": 17,
     "metadata": {},
     "output_type": "execute_result"
    }
   ],
   "source": [
    "inputs=pd.concat([inputs,sex],axis=\"columns\")\n",
    "inputs.head()"
   ]
  },
  {
   "cell_type": "code",
   "execution_count": 18,
   "id": "25c8d362",
   "metadata": {
    "execution": {
     "iopub.execute_input": "2024-05-23T10:01:22.516824Z",
     "iopub.status.busy": "2024-05-23T10:01:22.516408Z",
     "iopub.status.idle": "2024-05-23T10:01:22.522866Z",
     "shell.execute_reply": "2024-05-23T10:01:22.521251Z"
    },
    "executionInfo": {
     "elapsed": 9,
     "status": "ok",
     "timestamp": 1716455200327,
     "user": {
      "displayName": "RUDRA KANTI PARIA",
      "userId": "12500779285996674123"
     },
     "user_tz": -330
    },
    "id": "i31nI517sgY4",
    "papermill": {
     "duration": 0.031956,
     "end_time": "2024-05-23T10:01:22.525969",
     "exception": false,
     "start_time": "2024-05-23T10:01:22.494013",
     "status": "completed"
    },
    "tags": []
   },
   "outputs": [],
   "source": [
    "inputs.drop([\"Sex\"],axis=\"columns\",inplace=True)"
   ]
  },
  {
   "cell_type": "code",
   "execution_count": 19,
   "id": "415ca5da",
   "metadata": {
    "execution": {
     "iopub.execute_input": "2024-05-23T10:01:22.569567Z",
     "iopub.status.busy": "2024-05-23T10:01:22.569150Z",
     "iopub.status.idle": "2024-05-23T10:01:22.583539Z",
     "shell.execute_reply": "2024-05-23T10:01:22.582112Z"
    },
    "executionInfo": {
     "elapsed": 18,
     "status": "ok",
     "timestamp": 1716455219685,
     "user": {
      "displayName": "RUDRA KANTI PARIA",
      "userId": "12500779285996674123"
     },
     "user_tz": -330
    },
    "id": "BGW9LkdIsgbZ",
    "outputId": "0d1fa231-3412-4209-981e-1ac8b5418f39",
    "papermill": {
     "duration": 0.038894,
     "end_time": "2024-05-23T10:01:22.586079",
     "exception": false,
     "start_time": "2024-05-23T10:01:22.547185",
     "status": "completed"
    },
    "tags": []
   },
   "outputs": [
    {
     "data": {
      "text/html": [
       "<div>\n",
       "<style scoped>\n",
       "    .dataframe tbody tr th:only-of-type {\n",
       "        vertical-align: middle;\n",
       "    }\n",
       "\n",
       "    .dataframe tbody tr th {\n",
       "        vertical-align: top;\n",
       "    }\n",
       "\n",
       "    .dataframe thead th {\n",
       "        text-align: right;\n",
       "    }\n",
       "</style>\n",
       "<table border=\"1\" class=\"dataframe\">\n",
       "  <thead>\n",
       "    <tr style=\"text-align: right;\">\n",
       "      <th></th>\n",
       "      <th>Pclass</th>\n",
       "      <th>Age</th>\n",
       "      <th>Fare</th>\n",
       "      <th>female</th>\n",
       "      <th>male</th>\n",
       "    </tr>\n",
       "  </thead>\n",
       "  <tbody>\n",
       "    <tr>\n",
       "      <th>0</th>\n",
       "      <td>3</td>\n",
       "      <td>22.0</td>\n",
       "      <td>7.2500</td>\n",
       "      <td>False</td>\n",
       "      <td>True</td>\n",
       "    </tr>\n",
       "    <tr>\n",
       "      <th>1</th>\n",
       "      <td>1</td>\n",
       "      <td>38.0</td>\n",
       "      <td>71.2833</td>\n",
       "      <td>True</td>\n",
       "      <td>False</td>\n",
       "    </tr>\n",
       "    <tr>\n",
       "      <th>2</th>\n",
       "      <td>3</td>\n",
       "      <td>26.0</td>\n",
       "      <td>7.9250</td>\n",
       "      <td>True</td>\n",
       "      <td>False</td>\n",
       "    </tr>\n",
       "    <tr>\n",
       "      <th>3</th>\n",
       "      <td>1</td>\n",
       "      <td>35.0</td>\n",
       "      <td>53.1000</td>\n",
       "      <td>True</td>\n",
       "      <td>False</td>\n",
       "    </tr>\n",
       "    <tr>\n",
       "      <th>4</th>\n",
       "      <td>3</td>\n",
       "      <td>35.0</td>\n",
       "      <td>8.0500</td>\n",
       "      <td>False</td>\n",
       "      <td>True</td>\n",
       "    </tr>\n",
       "  </tbody>\n",
       "</table>\n",
       "</div>"
      ],
      "text/plain": [
       "   Pclass   Age     Fare  female   male\n",
       "0       3  22.0   7.2500   False   True\n",
       "1       1  38.0  71.2833    True  False\n",
       "2       3  26.0   7.9250    True  False\n",
       "3       1  35.0  53.1000    True  False\n",
       "4       3  35.0   8.0500   False   True"
      ]
     },
     "execution_count": 19,
     "metadata": {},
     "output_type": "execute_result"
    }
   ],
   "source": [
    "inputs.head()"
   ]
  },
  {
   "cell_type": "code",
   "execution_count": 20,
   "id": "4c7cddad",
   "metadata": {
    "execution": {
     "iopub.execute_input": "2024-05-23T10:01:22.630971Z",
     "iopub.status.busy": "2024-05-23T10:01:22.630545Z",
     "iopub.status.idle": "2024-05-23T10:01:22.639817Z",
     "shell.execute_reply": "2024-05-23T10:01:22.638878Z"
    },
    "executionInfo": {
     "elapsed": 8,
     "status": "ok",
     "timestamp": 1716455259921,
     "user": {
      "displayName": "RUDRA KANTI PARIA",
      "userId": "12500779285996674123"
     },
     "user_tz": -330
    },
    "id": "nWF9W3Vcsgec",
    "outputId": "a1d6cfcf-810f-4163-a7ca-7d88435c8122",
    "papermill": {
     "duration": 0.034345,
     "end_time": "2024-05-23T10:01:22.642134",
     "exception": false,
     "start_time": "2024-05-23T10:01:22.607789",
     "status": "completed"
    },
    "tags": []
   },
   "outputs": [
    {
     "data": {
      "text/plain": [
       "Pclass      0\n",
       "Age       177\n",
       "Fare        0\n",
       "female      0\n",
       "male        0\n",
       "dtype: int64"
      ]
     },
     "execution_count": 20,
     "metadata": {},
     "output_type": "execute_result"
    }
   ],
   "source": [
    "inputs.isna().sum()"
   ]
  },
  {
   "cell_type": "code",
   "execution_count": 21,
   "id": "36812e67",
   "metadata": {
    "execution": {
     "iopub.execute_input": "2024-05-23T10:01:22.686447Z",
     "iopub.status.busy": "2024-05-23T10:01:22.685742Z",
     "iopub.status.idle": "2024-05-23T10:01:22.702265Z",
     "shell.execute_reply": "2024-05-23T10:01:22.700880Z"
    },
    "executionInfo": {
     "elapsed": 18,
     "status": "ok",
     "timestamp": 1716455273360,
     "user": {
      "displayName": "RUDRA KANTI PARIA",
      "userId": "12500779285996674123"
     },
     "user_tz": -330
    },
    "id": "Cq10RfMPtL6M",
    "outputId": "bda75b12-c740-4286-e21a-1964ff70e73d",
    "papermill": {
     "duration": 0.041128,
     "end_time": "2024-05-23T10:01:22.704742",
     "exception": false,
     "start_time": "2024-05-23T10:01:22.663614",
     "status": "completed"
    },
    "tags": []
   },
   "outputs": [
    {
     "data": {
      "text/html": [
       "<div>\n",
       "<style scoped>\n",
       "    .dataframe tbody tr th:only-of-type {\n",
       "        vertical-align: middle;\n",
       "    }\n",
       "\n",
       "    .dataframe tbody tr th {\n",
       "        vertical-align: top;\n",
       "    }\n",
       "\n",
       "    .dataframe thead th {\n",
       "        text-align: right;\n",
       "    }\n",
       "</style>\n",
       "<table border=\"1\" class=\"dataframe\">\n",
       "  <thead>\n",
       "    <tr style=\"text-align: right;\">\n",
       "      <th></th>\n",
       "      <th>Pclass</th>\n",
       "      <th>Age</th>\n",
       "      <th>Fare</th>\n",
       "      <th>female</th>\n",
       "      <th>male</th>\n",
       "    </tr>\n",
       "  </thead>\n",
       "  <tbody>\n",
       "    <tr>\n",
       "      <th>0</th>\n",
       "      <td>3</td>\n",
       "      <td>22.0</td>\n",
       "      <td>7.2500</td>\n",
       "      <td>False</td>\n",
       "      <td>True</td>\n",
       "    </tr>\n",
       "    <tr>\n",
       "      <th>1</th>\n",
       "      <td>1</td>\n",
       "      <td>38.0</td>\n",
       "      <td>71.2833</td>\n",
       "      <td>True</td>\n",
       "      <td>False</td>\n",
       "    </tr>\n",
       "    <tr>\n",
       "      <th>2</th>\n",
       "      <td>3</td>\n",
       "      <td>26.0</td>\n",
       "      <td>7.9250</td>\n",
       "      <td>True</td>\n",
       "      <td>False</td>\n",
       "    </tr>\n",
       "    <tr>\n",
       "      <th>3</th>\n",
       "      <td>1</td>\n",
       "      <td>35.0</td>\n",
       "      <td>53.1000</td>\n",
       "      <td>True</td>\n",
       "      <td>False</td>\n",
       "    </tr>\n",
       "    <tr>\n",
       "      <th>4</th>\n",
       "      <td>3</td>\n",
       "      <td>35.0</td>\n",
       "      <td>8.0500</td>\n",
       "      <td>False</td>\n",
       "      <td>True</td>\n",
       "    </tr>\n",
       "  </tbody>\n",
       "</table>\n",
       "</div>"
      ],
      "text/plain": [
       "   Pclass   Age     Fare  female   male\n",
       "0       3  22.0   7.2500   False   True\n",
       "1       1  38.0  71.2833    True  False\n",
       "2       3  26.0   7.9250    True  False\n",
       "3       1  35.0  53.1000    True  False\n",
       "4       3  35.0   8.0500   False   True"
      ]
     },
     "execution_count": 21,
     "metadata": {},
     "output_type": "execute_result"
    }
   ],
   "source": [
    "inputs.Age = inputs.Age.fillna(inputs.Age.mean())\n",
    "inputs.head()"
   ]
  },
  {
   "cell_type": "code",
   "execution_count": 22,
   "id": "013e0eac",
   "metadata": {
    "execution": {
     "iopub.execute_input": "2024-05-23T10:01:22.813899Z",
     "iopub.status.busy": "2024-05-23T10:01:22.813403Z",
     "iopub.status.idle": "2024-05-23T10:01:22.831013Z",
     "shell.execute_reply": "2024-05-23T10:01:22.829114Z"
    },
    "executionInfo": {
     "elapsed": 12,
     "status": "ok",
     "timestamp": 1716455284586,
     "user": {
      "displayName": "RUDRA KANTI PARIA",
      "userId": "12500779285996674123"
     },
     "user_tz": -330
    },
    "id": "W0G3LS4itL9K",
    "outputId": "33c4af62-0222-4d7e-82d4-d2a59214f2bd",
    "papermill": {
     "duration": 0.108461,
     "end_time": "2024-05-23T10:01:22.834648",
     "exception": false,
     "start_time": "2024-05-23T10:01:22.726187",
     "status": "completed"
    },
    "tags": []
   },
   "outputs": [
    {
     "name": "stdout",
     "output_type": "stream",
     "text": [
      "<class 'pandas.core.frame.DataFrame'>\n",
      "RangeIndex: 891 entries, 0 to 890\n",
      "Data columns (total 5 columns):\n",
      " #   Column  Non-Null Count  Dtype  \n",
      "---  ------  --------------  -----  \n",
      " 0   Pclass  891 non-null    int64  \n",
      " 1   Age     891 non-null    float64\n",
      " 2   Fare    891 non-null    float64\n",
      " 3   female  891 non-null    bool   \n",
      " 4   male    891 non-null    bool   \n",
      "dtypes: bool(2), float64(2), int64(1)\n",
      "memory usage: 22.7 KB\n"
     ]
    }
   ],
   "source": [
    "inputs.info()"
   ]
  },
  {
   "cell_type": "code",
   "execution_count": 23,
   "id": "b877dfd9",
   "metadata": {
    "execution": {
     "iopub.execute_input": "2024-05-23T10:01:22.879803Z",
     "iopub.status.busy": "2024-05-23T10:01:22.879316Z",
     "iopub.status.idle": "2024-05-23T10:01:22.889210Z",
     "shell.execute_reply": "2024-05-23T10:01:22.887915Z"
    },
    "executionInfo": {
     "elapsed": 1882,
     "status": "ok",
     "timestamp": 1716455499345,
     "user": {
      "displayName": "RUDRA KANTI PARIA",
      "userId": "12500779285996674123"
     },
     "user_tz": -330
    },
    "id": "AMKO5kAPtL_r",
    "outputId": "dda94c80-215d-4b8b-e142-10bb9e931f4b",
    "papermill": {
     "duration": 0.035999,
     "end_time": "2024-05-23T10:01:22.891917",
     "exception": false,
     "start_time": "2024-05-23T10:01:22.855918",
     "status": "completed"
    },
    "tags": []
   },
   "outputs": [
    {
     "data": {
      "text/plain": [
       "Pclass    0\n",
       "Age       0\n",
       "Fare      0\n",
       "female    0\n",
       "male      0\n",
       "dtype: int64"
      ]
     },
     "execution_count": 23,
     "metadata": {},
     "output_type": "execute_result"
    }
   ],
   "source": [
    "inputs.isna().sum()"
   ]
  },
  {
   "cell_type": "code",
   "execution_count": 24,
   "id": "4e42e084",
   "metadata": {
    "execution": {
     "iopub.execute_input": "2024-05-23T10:01:22.936739Z",
     "iopub.status.busy": "2024-05-23T10:01:22.936319Z",
     "iopub.status.idle": "2024-05-23T10:01:23.250000Z",
     "shell.execute_reply": "2024-05-23T10:01:23.248150Z"
    },
    "executionInfo": {
     "elapsed": 646,
     "status": "ok",
     "timestamp": 1716455970404,
     "user": {
      "displayName": "RUDRA KANTI PARIA",
      "userId": "12500779285996674123"
     },
     "user_tz": -330
    },
    "id": "-210TBkQtMCp",
    "outputId": "ba00ee0a-073b-4be9-b90e-62c42979fc75",
    "papermill": {
     "duration": 0.340591,
     "end_time": "2024-05-23T10:01:23.253915",
     "exception": false,
     "start_time": "2024-05-23T10:01:22.913324",
     "status": "completed"
    },
    "tags": []
   },
   "outputs": [
    {
     "data": {
      "image/png": "[encoded data removed]",
      "text/plain": [
       "<Figure size 640x480 with 1 Axes>"
      ]
     },
     "metadata": {},
     "output_type": "display_data"
    }
   ],
   "source": [
    "counts = df.groupby(['Survived', 'Sex']).size().unstack().fillna(0)\n",
    "\n",
    "# Define the bar width\n",
    "bar_width = 0.40\n",
    "index = counts.index\n",
    "\n",
    "# Plotting\n",
    "fig, ax = plt.subplots()\n",
    "\n",
    "# Plot bars for each Sex\n",
    "bar1 = ax.bar(index - bar_width/2, counts['male'], bar_width, label='male')\n",
    "bar2 = ax.bar(index + bar_width/2, counts['female'], bar_width, label='female')\n",
    "\n",
    "# Setting labels and title\n",
    "ax.set_xlabel('Survived')\n",
    "ax.set_ylabel('Count')\n",
    "ax.set_title('Survival Counts by Gender')\n",
    "ax.set_xticks(index)\n",
    "ax.set_xticklabels(['Not Survived', 'Survived'])\n",
    "ax.legend()\n",
    "\n",
    "# Display the plot\n",
    "plt.show()"
   ]
  },
  {
   "cell_type": "code",
   "execution_count": 25,
   "id": "a5f50782",
   "metadata": {
    "execution": {
     "iopub.execute_input": "2024-05-23T10:01:23.314392Z",
     "iopub.status.busy": "2024-05-23T10:01:23.313820Z",
     "iopub.status.idle": "2024-05-23T10:01:23.323587Z",
     "shell.execute_reply": "2024-05-23T10:01:23.321990Z"
    },
    "executionInfo": {
     "elapsed": 676,
     "status": "ok",
     "timestamp": 1716456196033,
     "user": {
      "displayName": "RUDRA KANTI PARIA",
      "userId": "12500779285996674123"
     },
     "user_tz": -330
    },
    "id": "SvuxGnv2wvYj",
    "papermill": {
     "duration": 0.03787,
     "end_time": "2024-05-23T10:01:23.326322",
     "exception": false,
     "start_time": "2024-05-23T10:01:23.288452",
     "status": "completed"
    },
    "tags": []
   },
   "outputs": [],
   "source": [
    "X_train, X_test, y_train, y_test=train_test_split(inputs,target,test_size=0.2)"
   ]
  },
  {
   "cell_type": "code",
   "execution_count": 26,
   "id": "8dd7064e",
   "metadata": {
    "execution": {
     "iopub.execute_input": "2024-05-23T10:01:23.376872Z",
     "iopub.status.busy": "2024-05-23T10:01:23.376436Z",
     "iopub.status.idle": "2024-05-23T10:01:23.391589Z",
     "shell.execute_reply": "2024-05-23T10:01:23.390549Z"
    },
    "executionInfo": {
     "elapsed": 863,
     "status": "ok",
     "timestamp": 1716456205409,
     "user": {
      "displayName": "RUDRA KANTI PARIA",
      "userId": "12500779285996674123"
     },
     "user_tz": -330
    },
    "id": "epjcjvmDwwfO",
    "outputId": "059651b9-52c4-43ae-f287-ae615dd4aea8",
    "papermill": {
     "duration": 0.042281,
     "end_time": "2024-05-23T10:01:23.394145",
     "exception": false,
     "start_time": "2024-05-23T10:01:23.351864",
     "status": "completed"
    },
    "tags": []
   },
   "outputs": [
    {
     "data": {
      "text/html": [
       "<div>\n",
       "<style scoped>\n",
       "    .dataframe tbody tr th:only-of-type {\n",
       "        vertical-align: middle;\n",
       "    }\n",
       "\n",
       "    .dataframe tbody tr th {\n",
       "        vertical-align: top;\n",
       "    }\n",
       "\n",
       "    .dataframe thead th {\n",
       "        text-align: right;\n",
       "    }\n",
       "</style>\n",
       "<table border=\"1\" class=\"dataframe\">\n",
       "  <thead>\n",
       "    <tr style=\"text-align: right;\">\n",
       "      <th></th>\n",
       "      <th>Pclass</th>\n",
       "      <th>Age</th>\n",
       "      <th>Fare</th>\n",
       "      <th>female</th>\n",
       "      <th>male</th>\n",
       "    </tr>\n",
       "  </thead>\n",
       "  <tbody>\n",
       "    <tr>\n",
       "      <th>890</th>\n",
       "      <td>3</td>\n",
       "      <td>32.000000</td>\n",
       "      <td>7.7500</td>\n",
       "      <td>False</td>\n",
       "      <td>True</td>\n",
       "    </tr>\n",
       "    <tr>\n",
       "      <th>695</th>\n",
       "      <td>2</td>\n",
       "      <td>52.000000</td>\n",
       "      <td>13.5000</td>\n",
       "      <td>False</td>\n",
       "      <td>True</td>\n",
       "    </tr>\n",
       "    <tr>\n",
       "      <th>718</th>\n",
       "      <td>3</td>\n",
       "      <td>29.699118</td>\n",
       "      <td>15.5000</td>\n",
       "      <td>False</td>\n",
       "      <td>True</td>\n",
       "    </tr>\n",
       "    <tr>\n",
       "      <th>750</th>\n",
       "      <td>2</td>\n",
       "      <td>4.000000</td>\n",
       "      <td>23.0000</td>\n",
       "      <td>True</td>\n",
       "      <td>False</td>\n",
       "    </tr>\n",
       "    <tr>\n",
       "      <th>569</th>\n",
       "      <td>3</td>\n",
       "      <td>32.000000</td>\n",
       "      <td>7.8542</td>\n",
       "      <td>False</td>\n",
       "      <td>True</td>\n",
       "    </tr>\n",
       "    <tr>\n",
       "      <th>...</th>\n",
       "      <td>...</td>\n",
       "      <td>...</td>\n",
       "      <td>...</td>\n",
       "      <td>...</td>\n",
       "      <td>...</td>\n",
       "    </tr>\n",
       "    <tr>\n",
       "      <th>537</th>\n",
       "      <td>1</td>\n",
       "      <td>30.000000</td>\n",
       "      <td>106.4250</td>\n",
       "      <td>True</td>\n",
       "      <td>False</td>\n",
       "    </tr>\n",
       "    <tr>\n",
       "      <th>166</th>\n",
       "      <td>1</td>\n",
       "      <td>29.699118</td>\n",
       "      <td>55.0000</td>\n",
       "      <td>True</td>\n",
       "      <td>False</td>\n",
       "    </tr>\n",
       "    <tr>\n",
       "      <th>570</th>\n",
       "      <td>2</td>\n",
       "      <td>62.000000</td>\n",
       "      <td>10.5000</td>\n",
       "      <td>False</td>\n",
       "      <td>True</td>\n",
       "    </tr>\n",
       "    <tr>\n",
       "      <th>704</th>\n",
       "      <td>3</td>\n",
       "      <td>26.000000</td>\n",
       "      <td>7.8542</td>\n",
       "      <td>False</td>\n",
       "      <td>True</td>\n",
       "    </tr>\n",
       "    <tr>\n",
       "      <th>106</th>\n",
       "      <td>3</td>\n",
       "      <td>21.000000</td>\n",
       "      <td>7.6500</td>\n",
       "      <td>True</td>\n",
       "      <td>False</td>\n",
       "    </tr>\n",
       "  </tbody>\n",
       "</table>\n",
       "<p>712 rows × 5 columns</p>\n",
       "</div>"
      ],
      "text/plain": [
       "     Pclass        Age      Fare  female   male\n",
       "890       3  32.000000    7.7500   False   True\n",
       "695       2  52.000000   13.5000   False   True\n",
       "718       3  29.699118   15.5000   False   True\n",
       "750       2   4.000000   23.0000    True  False\n",
       "569       3  32.000000    7.8542   False   True\n",
       "..      ...        ...       ...     ...    ...\n",
       "537       1  30.000000  106.4250    True  False\n",
       "166       1  29.699118   55.0000    True  False\n",
       "570       2  62.000000   10.5000   False   True\n",
       "704       3  26.000000    7.8542   False   True\n",
       "106       3  21.000000    7.6500    True  False\n",
       "\n",
       "[712 rows x 5 columns]"
      ]
     },
     "execution_count": 26,
     "metadata": {},
     "output_type": "execute_result"
    }
   ],
   "source": [
    "X_train"
   ]
  },
  {
   "cell_type": "code",
   "execution_count": 27,
   "id": "ceae19fb",
   "metadata": {
    "execution": {
     "iopub.execute_input": "2024-05-23T10:01:23.440449Z",
     "iopub.status.busy": "2024-05-23T10:01:23.439779Z",
     "iopub.status.idle": "2024-05-23T10:01:23.460159Z",
     "shell.execute_reply": "2024-05-23T10:01:23.458771Z"
    },
    "executionInfo": {
     "elapsed": 580,
     "status": "ok",
     "timestamp": 1716456242945,
     "user": {
      "displayName": "RUDRA KANTI PARIA",
      "userId": "12500779285996674123"
     },
     "user_tz": -330
    },
    "id": "843sTK78wzgV",
    "outputId": "0761826c-453c-44f9-9610-a67234b437b6",
    "papermill": {
     "duration": 0.047834,
     "end_time": "2024-05-23T10:01:23.463822",
     "exception": false,
     "start_time": "2024-05-23T10:01:23.415988",
     "status": "completed"
    },
    "tags": []
   },
   "outputs": [
    {
     "data": {
      "text/html": [
       "<div>\n",
       "<style scoped>\n",
       "    .dataframe tbody tr th:only-of-type {\n",
       "        vertical-align: middle;\n",
       "    }\n",
       "\n",
       "    .dataframe tbody tr th {\n",
       "        vertical-align: top;\n",
       "    }\n",
       "\n",
       "    .dataframe thead th {\n",
       "        text-align: right;\n",
       "    }\n",
       "</style>\n",
       "<table border=\"1\" class=\"dataframe\">\n",
       "  <thead>\n",
       "    <tr style=\"text-align: right;\">\n",
       "      <th></th>\n",
       "      <th>Pclass</th>\n",
       "      <th>Age</th>\n",
       "      <th>Fare</th>\n",
       "      <th>female</th>\n",
       "      <th>male</th>\n",
       "    </tr>\n",
       "  </thead>\n",
       "  <tbody>\n",
       "    <tr>\n",
       "      <th>390</th>\n",
       "      <td>1</td>\n",
       "      <td>36.000000</td>\n",
       "      <td>120.0000</td>\n",
       "      <td>False</td>\n",
       "      <td>True</td>\n",
       "    </tr>\n",
       "    <tr>\n",
       "      <th>414</th>\n",
       "      <td>3</td>\n",
       "      <td>44.000000</td>\n",
       "      <td>7.9250</td>\n",
       "      <td>False</td>\n",
       "      <td>True</td>\n",
       "    </tr>\n",
       "    <tr>\n",
       "      <th>255</th>\n",
       "      <td>3</td>\n",
       "      <td>29.000000</td>\n",
       "      <td>15.2458</td>\n",
       "      <td>True</td>\n",
       "      <td>False</td>\n",
       "    </tr>\n",
       "    <tr>\n",
       "      <th>677</th>\n",
       "      <td>3</td>\n",
       "      <td>18.000000</td>\n",
       "      <td>9.8417</td>\n",
       "      <td>True</td>\n",
       "      <td>False</td>\n",
       "    </tr>\n",
       "    <tr>\n",
       "      <th>457</th>\n",
       "      <td>1</td>\n",
       "      <td>29.699118</td>\n",
       "      <td>51.8625</td>\n",
       "      <td>True</td>\n",
       "      <td>False</td>\n",
       "    </tr>\n",
       "    <tr>\n",
       "      <th>...</th>\n",
       "      <td>...</td>\n",
       "      <td>...</td>\n",
       "      <td>...</td>\n",
       "      <td>...</td>\n",
       "      <td>...</td>\n",
       "    </tr>\n",
       "    <tr>\n",
       "      <th>436</th>\n",
       "      <td>3</td>\n",
       "      <td>21.000000</td>\n",
       "      <td>34.3750</td>\n",
       "      <td>True</td>\n",
       "      <td>False</td>\n",
       "    </tr>\n",
       "    <tr>\n",
       "      <th>841</th>\n",
       "      <td>2</td>\n",
       "      <td>16.000000</td>\n",
       "      <td>10.5000</td>\n",
       "      <td>False</td>\n",
       "      <td>True</td>\n",
       "    </tr>\n",
       "    <tr>\n",
       "      <th>681</th>\n",
       "      <td>1</td>\n",
       "      <td>27.000000</td>\n",
       "      <td>76.7292</td>\n",
       "      <td>False</td>\n",
       "      <td>True</td>\n",
       "    </tr>\n",
       "    <tr>\n",
       "      <th>518</th>\n",
       "      <td>2</td>\n",
       "      <td>36.000000</td>\n",
       "      <td>26.0000</td>\n",
       "      <td>True</td>\n",
       "      <td>False</td>\n",
       "    </tr>\n",
       "    <tr>\n",
       "      <th>148</th>\n",
       "      <td>2</td>\n",
       "      <td>36.500000</td>\n",
       "      <td>26.0000</td>\n",
       "      <td>False</td>\n",
       "      <td>True</td>\n",
       "    </tr>\n",
       "  </tbody>\n",
       "</table>\n",
       "<p>179 rows × 5 columns</p>\n",
       "</div>"
      ],
      "text/plain": [
       "     Pclass        Age      Fare  female   male\n",
       "390       1  36.000000  120.0000   False   True\n",
       "414       3  44.000000    7.9250   False   True\n",
       "255       3  29.000000   15.2458    True  False\n",
       "677       3  18.000000    9.8417    True  False\n",
       "457       1  29.699118   51.8625    True  False\n",
       "..      ...        ...       ...     ...    ...\n",
       "436       3  21.000000   34.3750    True  False\n",
       "841       2  16.000000   10.5000   False   True\n",
       "681       1  27.000000   76.7292   False   True\n",
       "518       2  36.000000   26.0000    True  False\n",
       "148       2  36.500000   26.0000   False   True\n",
       "\n",
       "[179 rows x 5 columns]"
      ]
     },
     "execution_count": 27,
     "metadata": {},
     "output_type": "execute_result"
    }
   ],
   "source": [
    "X_test"
   ]
  },
  {
   "cell_type": "code",
   "execution_count": 28,
   "id": "b4e080e7",
   "metadata": {
    "execution": {
     "iopub.execute_input": "2024-05-23T10:01:23.516862Z",
     "iopub.status.busy": "2024-05-23T10:01:23.515719Z",
     "iopub.status.idle": "2024-05-23T10:01:23.524980Z",
     "shell.execute_reply": "2024-05-23T10:01:23.523530Z"
    },
    "executionInfo": {
     "elapsed": 539,
     "status": "ok",
     "timestamp": 1716456265588,
     "user": {
      "displayName": "RUDRA KANTI PARIA",
      "userId": "12500779285996674123"
     },
     "user_tz": -330
    },
    "id": "v_UDqhy8w9uE",
    "outputId": "61177217-19cf-44e0-983b-d9ce5aa8d765",
    "papermill": {
     "duration": 0.038064,
     "end_time": "2024-05-23T10:01:23.527434",
     "exception": false,
     "start_time": "2024-05-23T10:01:23.489370",
     "status": "completed"
    },
    "tags": []
   },
   "outputs": [
    {
     "data": {
      "text/plain": [
       "890    0\n",
       "695    0\n",
       "718    0\n",
       "750    1\n",
       "569    1\n",
       "      ..\n",
       "537    1\n",
       "166    1\n",
       "570    1\n",
       "704    0\n",
       "106    1\n",
       "Name: Survived, Length: 712, dtype: int64"
      ]
     },
     "execution_count": 28,
     "metadata": {},
     "output_type": "execute_result"
    }
   ],
   "source": [
    "y_train"
   ]
  },
  {
   "cell_type": "code",
   "execution_count": 29,
   "id": "3589aca7",
   "metadata": {
    "execution": {
     "iopub.execute_input": "2024-05-23T10:01:23.576078Z",
     "iopub.status.busy": "2024-05-23T10:01:23.575612Z",
     "iopub.status.idle": "2024-05-23T10:01:23.584905Z",
     "shell.execute_reply": "2024-05-23T10:01:23.583513Z"
    },
    "executionInfo": {
     "elapsed": 681,
     "status": "ok",
     "timestamp": 1716456275995,
     "user": {
      "displayName": "RUDRA KANTI PARIA",
      "userId": "12500779285996674123"
     },
     "user_tz": -330
    },
    "id": "JwPNwri5xCE6",
    "outputId": "5aede81c-98e0-4167-e778-21f87f719cdd",
    "papermill": {
     "duration": 0.036901,
     "end_time": "2024-05-23T10:01:23.587520",
     "exception": false,
     "start_time": "2024-05-23T10:01:23.550619",
     "status": "completed"
    },
    "tags": []
   },
   "outputs": [
    {
     "data": {
      "text/plain": [
       "390    1\n",
       "414    1\n",
       "255    1\n",
       "677    1\n",
       "457    1\n",
       "      ..\n",
       "436    0\n",
       "841    0\n",
       "681    1\n",
       "518    1\n",
       "148    0\n",
       "Name: Survived, Length: 179, dtype: int64"
      ]
     },
     "execution_count": 29,
     "metadata": {},
     "output_type": "execute_result"
    }
   ],
   "source": [
    "y_test"
   ]
  },
  {
   "cell_type": "code",
   "execution_count": 30,
   "id": "e32840cd",
   "metadata": {
    "execution": {
     "iopub.execute_input": "2024-05-23T10:01:23.636374Z",
     "iopub.status.busy": "2024-05-23T10:01:23.635212Z",
     "iopub.status.idle": "2024-05-23T10:01:23.650958Z",
     "shell.execute_reply": "2024-05-23T10:01:23.649628Z"
    },
    "executionInfo": {
     "elapsed": 819,
     "status": "ok",
     "timestamp": 1716456291895,
     "user": {
      "displayName": "RUDRA KANTI PARIA",
      "userId": "12500779285996674123"
     },
     "user_tz": -330
    },
    "id": "D9FGDKr9xD-g",
    "outputId": "6b49dd51-70a4-4466-ce53-3ae69fc5486e",
    "papermill": {
     "duration": 0.042714,
     "end_time": "2024-05-23T10:01:23.653477",
     "exception": false,
     "start_time": "2024-05-23T10:01:23.610763",
     "status": "completed"
    },
    "tags": []
   },
   "outputs": [
    {
     "data": {
      "text/html": [
       "<div>\n",
       "<style scoped>\n",
       "    .dataframe tbody tr th:only-of-type {\n",
       "        vertical-align: middle;\n",
       "    }\n",
       "\n",
       "    .dataframe tbody tr th {\n",
       "        vertical-align: top;\n",
       "    }\n",
       "\n",
       "    .dataframe thead th {\n",
       "        text-align: right;\n",
       "    }\n",
       "</style>\n",
       "<table border=\"1\" class=\"dataframe\">\n",
       "  <thead>\n",
       "    <tr style=\"text-align: right;\">\n",
       "      <th></th>\n",
       "      <th>Pclass</th>\n",
       "      <th>Age</th>\n",
       "      <th>Fare</th>\n",
       "      <th>female</th>\n",
       "      <th>male</th>\n",
       "    </tr>\n",
       "  </thead>\n",
       "  <tbody>\n",
       "    <tr>\n",
       "      <th>Pclass</th>\n",
       "      <td>1.000000</td>\n",
       "      <td>-0.331339</td>\n",
       "      <td>-0.549500</td>\n",
       "      <td>-0.131900</td>\n",
       "      <td>0.131900</td>\n",
       "    </tr>\n",
       "    <tr>\n",
       "      <th>Age</th>\n",
       "      <td>-0.331339</td>\n",
       "      <td>1.000000</td>\n",
       "      <td>0.091566</td>\n",
       "      <td>-0.084153</td>\n",
       "      <td>0.084153</td>\n",
       "    </tr>\n",
       "    <tr>\n",
       "      <th>Fare</th>\n",
       "      <td>-0.549500</td>\n",
       "      <td>0.091566</td>\n",
       "      <td>1.000000</td>\n",
       "      <td>0.182333</td>\n",
       "      <td>-0.182333</td>\n",
       "    </tr>\n",
       "    <tr>\n",
       "      <th>female</th>\n",
       "      <td>-0.131900</td>\n",
       "      <td>-0.084153</td>\n",
       "      <td>0.182333</td>\n",
       "      <td>1.000000</td>\n",
       "      <td>-1.000000</td>\n",
       "    </tr>\n",
       "    <tr>\n",
       "      <th>male</th>\n",
       "      <td>0.131900</td>\n",
       "      <td>0.084153</td>\n",
       "      <td>-0.182333</td>\n",
       "      <td>-1.000000</td>\n",
       "      <td>1.000000</td>\n",
       "    </tr>\n",
       "  </tbody>\n",
       "</table>\n",
       "</div>"
      ],
      "text/plain": [
       "          Pclass       Age      Fare    female      male\n",
       "Pclass  1.000000 -0.331339 -0.549500 -0.131900  0.131900\n",
       "Age    -0.331339  1.000000  0.091566 -0.084153  0.084153\n",
       "Fare   -0.549500  0.091566  1.000000  0.182333 -0.182333\n",
       "female -0.131900 -0.084153  0.182333  1.000000 -1.000000\n",
       "male    0.131900  0.084153 -0.182333 -1.000000  1.000000"
      ]
     },
     "execution_count": 30,
     "metadata": {},
     "output_type": "execute_result"
    }
   ],
   "source": [
    "inputs.corr()"
   ]
  },
  {
   "cell_type": "code",
   "execution_count": 31,
   "id": "d1eaa14e",
   "metadata": {
    "execution": {
     "iopub.execute_input": "2024-05-23T10:01:23.701885Z",
     "iopub.status.busy": "2024-05-23T10:01:23.701496Z",
     "iopub.status.idle": "2024-05-23T10:01:24.076794Z",
     "shell.execute_reply": "2024-05-23T10:01:24.075801Z"
    },
    "executionInfo": {
     "elapsed": 1789,
     "status": "ok",
     "timestamp": 1716456305545,
     "user": {
      "displayName": "RUDRA KANTI PARIA",
      "userId": "12500779285996674123"
     },
     "user_tz": -330
    },
    "id": "tQvtw1QOxHqZ",
    "papermill": {
     "duration": 0.402861,
     "end_time": "2024-05-23T10:01:24.079542",
     "exception": false,
     "start_time": "2024-05-23T10:01:23.676681",
     "status": "completed"
    },
    "tags": []
   },
   "outputs": [],
   "source": [
    "import seaborn as sns"
   ]
  },
  {
   "cell_type": "code",
   "execution_count": 32,
   "id": "80fa2c07",
   "metadata": {
    "execution": {
     "iopub.execute_input": "2024-05-23T10:01:24.127164Z",
     "iopub.status.busy": "2024-05-23T10:01:24.126698Z",
     "iopub.status.idle": "2024-05-23T10:01:24.596289Z",
     "shell.execute_reply": "2024-05-23T10:01:24.595212Z"
    },
    "executionInfo": {
     "elapsed": 1925,
     "status": "ok",
     "timestamp": 1716456326117,
     "user": {
      "displayName": "RUDRA KANTI PARIA",
      "userId": "12500779285996674123"
     },
     "user_tz": -330
    },
    "id": "gsR_5oPJxO7J",
    "outputId": "362e0e60-57e4-434b-e62a-b13ac975be52",
    "papermill": {
     "duration": 0.496538,
     "end_time": "2024-05-23T10:01:24.598948",
     "exception": false,
     "start_time": "2024-05-23T10:01:24.102410",
     "status": "completed"
    },
    "tags": []
   },
   "outputs": [
    {
     "data": {
      "text/plain": [
       "<Axes: >"
      ]
     },
     "execution_count": 32,
     "metadata": {},
     "output_type": "execute_result"
    },
    {
     "data": {
      "image/png": "[encoded data removed]",
      "text/plain": [
       "<Figure size 640x480 with 2 Axes>"
      ]
     },
     "metadata": {},
     "output_type": "display_data"
    }
   ],
   "source": [
    "sns.heatmap(inputs.corr(), annot=True, cmap='coolwarm', fmt=\".2f\")"
   ]
  },
  {
   "cell_type": "code",
   "execution_count": 33,
   "id": "c506244f",
   "metadata": {
    "execution": {
     "iopub.execute_input": "2024-05-23T10:01:24.649857Z",
     "iopub.status.busy": "2024-05-23T10:01:24.649461Z",
     "iopub.status.idle": "2024-05-23T10:01:24.654757Z",
     "shell.execute_reply": "2024-05-23T10:01:24.653648Z"
    },
    "executionInfo": {
     "elapsed": 855,
     "status": "ok",
     "timestamp": 1716456757653,
     "user": {
      "displayName": "RUDRA KANTI PARIA",
      "userId": "12500779285996674123"
     },
     "user_tz": -330
    },
    "id": "PbdIiXfsxQ3n",
    "papermill": {
     "duration": 0.03373,
     "end_time": "2024-05-23T10:01:24.657190",
     "exception": false,
     "start_time": "2024-05-23T10:01:24.623460",
     "status": "completed"
    },
    "tags": []
   },
   "outputs": [],
   "source": [
    "model=RandomForestClassifier()"
   ]
  },
  {
   "cell_type": "code",
   "execution_count": 34,
   "id": "b247f33f",
   "metadata": {
    "execution": {
     "iopub.execute_input": "2024-05-23T10:01:24.708392Z",
     "iopub.status.busy": "2024-05-23T10:01:24.707616Z",
     "iopub.status.idle": "2024-05-23T10:01:25.008595Z",
     "shell.execute_reply": "2024-05-23T10:01:25.007386Z"
    },
    "executionInfo": {
     "elapsed": 786,
     "status": "ok",
     "timestamp": 1716456780246,
     "user": {
      "displayName": "RUDRA KANTI PARIA",
      "userId": "12500779285996674123"
     },
     "user_tz": -330
    },
    "id": "LjtR6Z1ey5Zs",
    "outputId": "138c9033-7592-4cc9-9c21-50b93d5009cc",
    "papermill": {
     "duration": 0.330138,
     "end_time": "2024-05-23T10:01:25.011578",
     "exception": false,
     "start_time": "2024-05-23T10:01:24.681440",
     "status": "completed"
    },
    "tags": []
   },
   "outputs": [
    {
     "data": {
      "text/html": [
       "<style>#sk-container-id-1 {color: black;background-color: white;}#sk-container-id-1 pre{padding: 0;}#sk-container-id-1 div.sk-toggleable {background-color: white;}#sk-container-id-1 label.sk-toggleable__label {cursor: pointer;display: block;width: 100%;margin-bottom: 0;padding: 0.3em;box-sizing: border-box;text-align: center;}#sk-container-id-1 label.sk-toggleable__label-arrow:before {content: \"▸\";float: left;margin-right: 0.25em;color: #696969;}#sk-container-id-1 label.sk-toggleable__label-arrow:hover:before {color: black;}#sk-container-id-1 div.sk-estimator:hover label.sk-toggleable__label-arrow:before {color: black;}#sk-container-id-1 div.sk-toggleable__content {max-height: 0;max-width: 0;overflow: hidden;text-align: left;background-color: #f0f8ff;}#sk-container-id-1 div.sk-toggleable__content pre {margin: 0.2em;color: black;border-radius: 0.25em;background-color: #f0f8ff;}#sk-container-id-1 input.sk-toggleable__control:checked~div.sk-toggleable__content {max-height: 200px;max-width: 100%;overflow: auto;}#sk-container-id-1 input.sk-toggleable__control:checked~label.sk-toggleable__label-arrow:before {content: \"▾\";}#sk-container-id-1 div.sk-estimator input.sk-toggleable__control:checked~label.sk-toggleable__label {background-color: #d4ebff;}#sk-container-id-1 div.sk-label input.sk-toggleable__control:checked~label.sk-toggleable__label {background-color: #d4ebff;}#sk-container-id-1 input.sk-hidden--visually {border: 0;clip: rect(1px 1px 1px 1px);clip: rect(1px, 1px, 1px, 1px);height: 1px;margin: -1px;overflow: hidden;padding: 0;position: absolute;width: 1px;}#sk-container-id-1 div.sk-estimator {font-family: monospace;background-color: #f0f8ff;border: 1px dotted black;border-radius: 0.25em;box-sizing: border-box;margin-bottom: 0.5em;}#sk-container-id-1 div.sk-estimator:hover {background-color: #d4ebff;}#sk-container-id-1 div.sk-parallel-item::after {content: \"\";width: 100%;border-bottom: 1px solid gray;flex-grow: 1;}#sk-container-id-1 div.sk-label:hover label.sk-toggleable__label {background-color: #d4ebff;}#sk-container-id-1 div.sk-serial::before {content: \"\";position: absolute;border-left: 1px solid gray;box-sizing: border-box;top: 0;bottom: 0;left: 50%;z-index: 0;}#sk-container-id-1 div.sk-serial {display: flex;flex-direction: column;align-items: center;background-color: white;padding-right: 0.2em;padding-left: 0.2em;position: relative;}#sk-container-id-1 div.sk-item {position: relative;z-index: 1;}#sk-container-id-1 div.sk-parallel {display: flex;align-items: stretch;justify-content: center;background-color: white;position: relative;}#sk-container-id-1 div.sk-item::before, #sk-container-id-1 div.sk-parallel-item::before {content: \"\";position: absolute;border-left: 1px solid gray;box-sizing: border-box;top: 0;bottom: 0;left: 50%;z-index: -1;}#sk-container-id-1 div.sk-parallel-item {display: flex;flex-direction: column;z-index: 1;position: relative;background-color: white;}#sk-container-id-1 div.sk-parallel-item:first-child::after {align-self: flex-end;width: 50%;}#sk-container-id-1 div.sk-parallel-item:last-child::after {align-self: flex-start;width: 50%;}#sk-container-id-1 div.sk-parallel-item:only-child::after {width: 0;}#sk-container-id-1 div.sk-dashed-wrapped {border: 1px dashed gray;margin: 0 0.4em 0.5em 0.4em;box-sizing: border-box;padding-bottom: 0.4em;background-color: white;}#sk-container-id-1 div.sk-label label {font-family: monospace;font-weight: bold;display: inline-block;line-height: 1.2em;}#sk-container-id-1 div.sk-label-container {text-align: center;}#sk-container-id-1 div.sk-container {/* jupyter's `normalize.less` sets `[hidden] { display: none; }` but bootstrap.min.css set `[hidden] { display: none !important; }` so we also need the `!important` here to be able to override the default hidden behavior on the sphinx rendered scikit-learn.org. See: https://github.com/scikit-learn/scikit-learn/issues/21755 */display: inline-block !important;position: relative;}#sk-container-id-1 div.sk-text-repr-fallback {display: none;}</style><div id=\"sk-container-id-1\" class=\"sk-top-container\"><div class=\"sk-text-repr-fallback\"><pre>RandomForestClassifier()</pre><b>In a Jupyter environment, please rerun this cell to show the HTML representation or trust the notebook. <br />On GitHub, the HTML representation is unable to render, please try loading this page with nbviewer.org.</b></div><div class=\"sk-container\" hidden><div class=\"sk-item\"><div class=\"sk-estimator sk-toggleable\"><input class=\"sk-toggleable__control sk-hidden--visually\" id=\"sk-estimator-id-1\" type=\"checkbox\" checked><label for=\"sk-estimator-id-1\" class=\"sk-toggleable__label sk-toggleable__label-arrow\">RandomForestClassifier</label><div class=\"sk-toggleable__content\"><pre>RandomForestClassifier()</pre></div></div></div></div></div>"
      ],
      "text/plain": [
       "RandomForestClassifier()"
      ]
     },
     "execution_count": 34,
     "metadata": {},
     "output_type": "execute_result"
    }
   ],
   "source": [
    "model.fit(X_train,y_train)"
   ]
  },
  {
   "cell_type": "code",
   "execution_count": 35,
   "id": "73fa6759",
   "metadata": {
    "execution": {
     "iopub.execute_input": "2024-05-23T10:01:25.064310Z",
     "iopub.status.busy": "2024-05-23T10:01:25.063860Z",
     "iopub.status.idle": "2024-05-23T10:01:25.086208Z",
     "shell.execute_reply": "2024-05-23T10:01:25.084921Z"
    },
    "executionInfo": {
     "elapsed": 762,
     "status": "ok",
     "timestamp": 1716456814012,
     "user": {
      "displayName": "RUDRA KANTI PARIA",
      "userId": "12500779285996674123"
     },
     "user_tz": -330
    },
    "id": "7lLQe6Z8y5cW",
    "outputId": "f8a1c416-7e60-4cff-d1c0-30560dcd53b0",
    "papermill": {
     "duration": 0.051891,
     "end_time": "2024-05-23T10:01:25.088989",
     "exception": false,
     "start_time": "2024-05-23T10:01:25.037098",
     "status": "completed"
    },
    "tags": []
   },
   "outputs": [
    {
     "data": {
      "text/plain": [
       "0.8156424581005587"
      ]
     },
     "execution_count": 35,
     "metadata": {},
     "output_type": "execute_result"
    }
   ],
   "source": [
    "model.score(X_test,y_test)"
   ]
  },
  {
   "cell_type": "code",
   "execution_count": 36,
   "id": "9d269bdf",
   "metadata": {
    "execution": {
     "iopub.execute_input": "2024-05-23T10:01:25.140811Z",
     "iopub.status.busy": "2024-05-23T10:01:25.140375Z",
     "iopub.status.idle": "2024-05-23T10:01:25.159723Z",
     "shell.execute_reply": "2024-05-23T10:01:25.158135Z"
    },
    "executionInfo": {
     "elapsed": 8,
     "status": "ok",
     "timestamp": 1716456816331,
     "user": {
      "displayName": "RUDRA KANTI PARIA",
      "userId": "12500779285996674123"
     },
     "user_tz": -330
    },
    "id": "71OoQFHJy5fB",
    "papermill": {
     "duration": 0.048835,
     "end_time": "2024-05-23T10:01:25.162525",
     "exception": false,
     "start_time": "2024-05-23T10:01:25.113690",
     "status": "completed"
    },
    "tags": []
   },
   "outputs": [],
   "source": [
    "pre=model.predict(X_test)"
   ]
  },
  {
   "cell_type": "code",
   "execution_count": 37,
   "id": "7e82fa02",
   "metadata": {
    "execution": {
     "iopub.execute_input": "2024-05-23T10:01:25.214636Z",
     "iopub.status.busy": "2024-05-23T10:01:25.214172Z",
     "iopub.status.idle": "2024-05-23T10:01:25.223444Z",
     "shell.execute_reply": "2024-05-23T10:01:25.222343Z"
    },
    "executionInfo": {
     "elapsed": 538,
     "status": "ok",
     "timestamp": 1716456819589,
     "user": {
      "displayName": "RUDRA KANTI PARIA",
      "userId": "12500779285996674123"
     },
     "user_tz": -330
    },
    "id": "R97aTaW0y5j7",
    "outputId": "12122207-a93c-4385-dfb4-bec7a29c5b0a",
    "papermill": {
     "duration": 0.038179,
     "end_time": "2024-05-23T10:01:25.226072",
     "exception": false,
     "start_time": "2024-05-23T10:01:25.187893",
     "status": "completed"
    },
    "tags": []
   },
   "outputs": [
    {
     "data": {
      "text/plain": [
       "0.202834008097166"
      ]
     },
     "execution_count": 37,
     "metadata": {},
     "output_type": "execute_result"
    }
   ],
   "source": [
    "matrices=r2_score(pre,y_test)\n",
    "matrices"
   ]
  },
  {
   "cell_type": "code",
   "execution_count": null,
   "id": "34575da7",
   "metadata": {
    "id": "uGjovub4y5m0",
    "papermill": {
     "duration": 0.025566,
     "end_time": "2024-05-23T10:01:25.276757",
     "exception": false,
     "start_time": "2024-05-23T10:01:25.251191",
     "status": "completed"
    },
    "tags": []
   },
   "outputs": [],
   "source": []
  },
  {
   "cell_type": "code",
   "execution_count": null,
   "id": "8bce369d",
   "metadata": {
    "id": "Hj4kFjVzy5pY",
    "papermill": {
     "duration": 0.02505,
     "end_time": "2024-05-23T10:01:25.327727",
     "exception": false,
     "start_time": "2024-05-23T10:01:25.302677",
     "status": "completed"
    },
    "tags": []
   },
   "outputs": [],
   "source": []
  }
 ],
 "metadata": {
  "colab": {
   "authorship_tag": "ABX9TyMijlSvymgVqtnXOGmFmQv4",
   "provenance": []
  },
  "kaggle": {
   "accelerator": "none",
   "dataSources": [
    {
     "datasetId": 1818188,
     "sourceId": 2965537,
     "sourceType": "datasetVersion"
    }
   ],
   "dockerImageVersionId": 30698,
   "isGpuEnabled": false,
   "isInternetEnabled": true,
   "language": "python",
   "sourceType": "notebook"
  },
  "kernelspec": {
   "display_name": "Python 3",
   "language": "python",
   "name": "python3"
  },
  "language_info": {
   "codemirror_mode": {
    "name": "ipython",
    "version": 3
   },
   "file_extension": ".py",
   "mimetype": "text/x-python",
   "name": "python",
   "nbconvert_exporter": "python",
   "pygments_lexer": "ipython3",
   "version": "3.10.13"
  },
  "papermill": {
   "default_parameters": {},
   "duration": 11.357925,
   "end_time": "2024-05-23T10:01:26.074317",
   "environment_variables": {},
   "exception": null,
   "input_path": "__notebook__.ipynb",
   "output_path": "__notebook__.ipynb",
   "parameters": {},
   "start_time": "2024-05-23T10:01:14.716392",
   "version": "2.5.0"
  }
 },
 "nbformat": 4,
 "nbformat_minor": 5
}
