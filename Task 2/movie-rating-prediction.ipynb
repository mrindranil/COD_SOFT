{
 "cells": [
  {
   "cell_type": "code",
   "execution_count": 1,
   "id": "b8008820",
   "metadata": {
    "execution": {
     "iopub.execute_input": "2024-05-22T09:47:45.159663Z",
     "iopub.status.busy": "2024-05-22T09:47:45.159228Z",
     "iopub.status.idle": "2024-05-22T09:47:45.967992Z",
     "shell.execute_reply": "2024-05-22T09:47:45.966957Z"
    },
    "executionInfo": {
     "elapsed": 1011,
     "status": "ok",
     "timestamp": 1716369022043,
     "user": {
      "displayName": "RUDRA KANTI PARIA",
      "userId": "12500779285996674123"
     },
     "user_tz": -330
    },
    "id": "uVBqgfnS78Da",
    "papermill": {
     "duration": 0.818942,
     "end_time": "2024-05-22T09:47:45.970397",
     "exception": false,
     "start_time": "2024-05-22T09:47:45.151455",
     "status": "completed"
    },
    "tags": []
   },
   "outputs": [],
   "source": [
    "import pandas as pd\n",
    "\n",
    "# Load the dataset\n",
    "df = pd.read_csv('/kaggle/input/imdb-india-movies/IMDb Movies India.csv',encoding='latin1')\n",
    "\n"
   ]
  },
  {
   "cell_type": "code",
   "execution_count": 2,
   "id": "bc604f1d",
   "metadata": {
    "execution": {
     "iopub.execute_input": "2024-05-22T09:47:45.983356Z",
     "iopub.status.busy": "2024-05-22T09:47:45.982986Z",
     "iopub.status.idle": "2024-05-22T09:47:46.010177Z",
     "shell.execute_reply": "2024-05-22T09:47:46.009257Z"
    },
    "executionInfo": {
     "elapsed": 755,
     "status": "ok",
     "timestamp": 1716369023909,
     "user": {
      "displayName": "RUDRA KANTI PARIA",
      "userId": "12500779285996674123"
     },
     "user_tz": -330
    },
    "id": "2xu_Dj0U78F1",
    "outputId": "71c8b06f-4128-4d7e-99ee-b7fa9953d03c",
    "papermill": {
     "duration": 0.036364,
     "end_time": "2024-05-22T09:47:46.012844",
     "exception": false,
     "start_time": "2024-05-22T09:47:45.976480",
     "status": "completed"
    },
    "tags": []
   },
   "outputs": [
    {
     "data": {
      "text/html": [
       "<div>\n",
       "<style scoped>\n",
       "    .dataframe tbody tr th:only-of-type {\n",
       "        vertical-align: middle;\n",
       "    }\n",
       "\n",
       "    .dataframe tbody tr th {\n",
       "        vertical-align: top;\n",
       "    }\n",
       "\n",
       "    .dataframe thead th {\n",
       "        text-align: right;\n",
       "    }\n",
       "</style>\n",
       "<table border=\"1\" class=\"dataframe\">\n",
       "  <thead>\n",
       "    <tr style=\"text-align: right;\">\n",
       "      <th></th>\n",
       "      <th>Name</th>\n",
       "      <th>Year</th>\n",
       "      <th>Duration</th>\n",
       "      <th>Genre</th>\n",
       "      <th>Rating</th>\n",
       "      <th>Votes</th>\n",
       "      <th>Director</th>\n",
       "      <th>Actor 1</th>\n",
       "      <th>Actor 2</th>\n",
       "      <th>Actor 3</th>\n",
       "    </tr>\n",
       "  </thead>\n",
       "  <tbody>\n",
       "    <tr>\n",
       "      <th>0</th>\n",
       "      <td></td>\n",
       "      <td>NaN</td>\n",
       "      <td>NaN</td>\n",
       "      <td>Drama</td>\n",
       "      <td>NaN</td>\n",
       "      <td>NaN</td>\n",
       "      <td>J.S. Randhawa</td>\n",
       "      <td>Manmauji</td>\n",
       "      <td>Birbal</td>\n",
       "      <td>Rajendra Bhatia</td>\n",
       "    </tr>\n",
       "    <tr>\n",
       "      <th>1</th>\n",
       "      <td>#Gadhvi (He thought he was Gandhi)</td>\n",
       "      <td>(2019)</td>\n",
       "      <td>109 min</td>\n",
       "      <td>Drama</td>\n",
       "      <td>7.0</td>\n",
       "      <td>8</td>\n",
       "      <td>Gaurav Bakshi</td>\n",
       "      <td>Rasika Dugal</td>\n",
       "      <td>Vivek Ghamande</td>\n",
       "      <td>Arvind Jangid</td>\n",
       "    </tr>\n",
       "    <tr>\n",
       "      <th>2</th>\n",
       "      <td>#Homecoming</td>\n",
       "      <td>(2021)</td>\n",
       "      <td>90 min</td>\n",
       "      <td>Drama, Musical</td>\n",
       "      <td>NaN</td>\n",
       "      <td>NaN</td>\n",
       "      <td>Soumyajit Majumdar</td>\n",
       "      <td>Sayani Gupta</td>\n",
       "      <td>Plabita Borthakur</td>\n",
       "      <td>Roy Angana</td>\n",
       "    </tr>\n",
       "    <tr>\n",
       "      <th>3</th>\n",
       "      <td>#Yaaram</td>\n",
       "      <td>(2019)</td>\n",
       "      <td>110 min</td>\n",
       "      <td>Comedy, Romance</td>\n",
       "      <td>4.4</td>\n",
       "      <td>35</td>\n",
       "      <td>Ovais Khan</td>\n",
       "      <td>Prateik</td>\n",
       "      <td>Ishita Raj</td>\n",
       "      <td>Siddhant Kapoor</td>\n",
       "    </tr>\n",
       "    <tr>\n",
       "      <th>4</th>\n",
       "      <td>...And Once Again</td>\n",
       "      <td>(2010)</td>\n",
       "      <td>105 min</td>\n",
       "      <td>Drama</td>\n",
       "      <td>NaN</td>\n",
       "      <td>NaN</td>\n",
       "      <td>Amol Palekar</td>\n",
       "      <td>Rajat Kapoor</td>\n",
       "      <td>Rituparna Sengupta</td>\n",
       "      <td>Antara Mali</td>\n",
       "    </tr>\n",
       "    <tr>\n",
       "      <th>...</th>\n",
       "      <td>...</td>\n",
       "      <td>...</td>\n",
       "      <td>...</td>\n",
       "      <td>...</td>\n",
       "      <td>...</td>\n",
       "      <td>...</td>\n",
       "      <td>...</td>\n",
       "      <td>...</td>\n",
       "      <td>...</td>\n",
       "      <td>...</td>\n",
       "    </tr>\n",
       "    <tr>\n",
       "      <th>15504</th>\n",
       "      <td>Zulm Ko Jala Doonga</td>\n",
       "      <td>(1988)</td>\n",
       "      <td>NaN</td>\n",
       "      <td>Action</td>\n",
       "      <td>4.6</td>\n",
       "      <td>11</td>\n",
       "      <td>Mahendra Shah</td>\n",
       "      <td>Naseeruddin Shah</td>\n",
       "      <td>Sumeet Saigal</td>\n",
       "      <td>Suparna Anand</td>\n",
       "    </tr>\n",
       "    <tr>\n",
       "      <th>15505</th>\n",
       "      <td>Zulmi</td>\n",
       "      <td>(1999)</td>\n",
       "      <td>129 min</td>\n",
       "      <td>Action, Drama</td>\n",
       "      <td>4.5</td>\n",
       "      <td>655</td>\n",
       "      <td>Kuku Kohli</td>\n",
       "      <td>Akshay Kumar</td>\n",
       "      <td>Twinkle Khanna</td>\n",
       "      <td>Aruna Irani</td>\n",
       "    </tr>\n",
       "    <tr>\n",
       "      <th>15506</th>\n",
       "      <td>Zulmi Raj</td>\n",
       "      <td>(2005)</td>\n",
       "      <td>NaN</td>\n",
       "      <td>Action</td>\n",
       "      <td>NaN</td>\n",
       "      <td>NaN</td>\n",
       "      <td>Kiran Thej</td>\n",
       "      <td>Sangeeta Tiwari</td>\n",
       "      <td>NaN</td>\n",
       "      <td>NaN</td>\n",
       "    </tr>\n",
       "    <tr>\n",
       "      <th>15507</th>\n",
       "      <td>Zulmi Shikari</td>\n",
       "      <td>(1988)</td>\n",
       "      <td>NaN</td>\n",
       "      <td>Action</td>\n",
       "      <td>NaN</td>\n",
       "      <td>NaN</td>\n",
       "      <td>NaN</td>\n",
       "      <td>NaN</td>\n",
       "      <td>NaN</td>\n",
       "      <td>NaN</td>\n",
       "    </tr>\n",
       "    <tr>\n",
       "      <th>15508</th>\n",
       "      <td>Zulm-O-Sitam</td>\n",
       "      <td>(1998)</td>\n",
       "      <td>130 min</td>\n",
       "      <td>Action, Drama</td>\n",
       "      <td>6.2</td>\n",
       "      <td>20</td>\n",
       "      <td>K.C. Bokadia</td>\n",
       "      <td>Dharmendra</td>\n",
       "      <td>Jaya Prada</td>\n",
       "      <td>Arjun Sarja</td>\n",
       "    </tr>\n",
       "  </tbody>\n",
       "</table>\n",
       "<p>15509 rows × 10 columns</p>\n",
       "</div>"
      ],
      "text/plain": [
       "                                     Name    Year Duration            Genre  \\\n",
       "0                                             NaN      NaN            Drama   \n",
       "1      #Gadhvi (He thought he was Gandhi)  (2019)  109 min            Drama   \n",
       "2                             #Homecoming  (2021)   90 min   Drama, Musical   \n",
       "3                                 #Yaaram  (2019)  110 min  Comedy, Romance   \n",
       "4                       ...And Once Again  (2010)  105 min            Drama   \n",
       "...                                   ...     ...      ...              ...   \n",
       "15504                 Zulm Ko Jala Doonga  (1988)      NaN           Action   \n",
       "15505                               Zulmi  (1999)  129 min    Action, Drama   \n",
       "15506                           Zulmi Raj  (2005)      NaN           Action   \n",
       "15507                       Zulmi Shikari  (1988)      NaN           Action   \n",
       "15508                        Zulm-O-Sitam  (1998)  130 min    Action, Drama   \n",
       "\n",
       "       Rating Votes            Director           Actor 1             Actor 2  \\\n",
       "0         NaN   NaN       J.S. Randhawa          Manmauji              Birbal   \n",
       "1         7.0     8       Gaurav Bakshi      Rasika Dugal      Vivek Ghamande   \n",
       "2         NaN   NaN  Soumyajit Majumdar      Sayani Gupta   Plabita Borthakur   \n",
       "3         4.4    35          Ovais Khan           Prateik          Ishita Raj   \n",
       "4         NaN   NaN        Amol Palekar      Rajat Kapoor  Rituparna Sengupta   \n",
       "...       ...   ...                 ...               ...                 ...   \n",
       "15504     4.6    11       Mahendra Shah  Naseeruddin Shah       Sumeet Saigal   \n",
       "15505     4.5   655          Kuku Kohli      Akshay Kumar      Twinkle Khanna   \n",
       "15506     NaN   NaN          Kiran Thej   Sangeeta Tiwari                 NaN   \n",
       "15507     NaN   NaN                 NaN               NaN                 NaN   \n",
       "15508     6.2    20        K.C. Bokadia        Dharmendra          Jaya Prada   \n",
       "\n",
       "               Actor 3  \n",
       "0      Rajendra Bhatia  \n",
       "1        Arvind Jangid  \n",
       "2           Roy Angana  \n",
       "3      Siddhant Kapoor  \n",
       "4          Antara Mali  \n",
       "...                ...  \n",
       "15504    Suparna Anand  \n",
       "15505      Aruna Irani  \n",
       "15506              NaN  \n",
       "15507              NaN  \n",
       "15508      Arjun Sarja  \n",
       "\n",
       "[15509 rows x 10 columns]"
      ]
     },
     "execution_count": 2,
     "metadata": {},
     "output_type": "execute_result"
    }
   ],
   "source": [
    "df"
   ]
  },
  {
   "cell_type": "code",
   "execution_count": null,
   "id": "8e004b97",
   "metadata": {
    "id": "eEiFYP3ONbCW",
    "papermill": {
     "duration": 0.005673,
     "end_time": "2024-05-22T09:47:46.025007",
     "exception": false,
     "start_time": "2024-05-22T09:47:46.019334",
     "status": "completed"
    },
    "tags": []
   },
   "outputs": [],
   "source": []
  },
  {
   "cell_type": "code",
   "execution_count": 3,
   "id": "cfa474e9",
   "metadata": {
    "execution": {
     "iopub.execute_input": "2024-05-22T09:47:46.037906Z",
     "iopub.status.busy": "2024-05-22T09:47:46.037509Z",
     "iopub.status.idle": "2024-05-22T09:47:46.047025Z",
     "shell.execute_reply": "2024-05-22T09:47:46.046109Z"
    },
    "executionInfo": {
     "elapsed": 767,
     "status": "ok",
     "timestamp": 1716369028232,
     "user": {
      "displayName": "RUDRA KANTI PARIA",
      "userId": "12500779285996674123"
     },
     "user_tz": -330
    },
    "id": "21TdxKIN78IJ",
    "outputId": "49a0b081-37d6-4bc2-d58a-65df8a39ea90",
    "papermill": {
     "duration": 0.018537,
     "end_time": "2024-05-22T09:47:46.049209",
     "exception": false,
     "start_time": "2024-05-22T09:47:46.030672",
     "status": "completed"
    },
    "tags": []
   },
   "outputs": [
    {
     "name": "stdout",
     "output_type": "stream",
     "text": [
      "                                 Name    Year Duration            Genre  \\\n",
      "0                                         NaN      NaN            Drama   \n",
      "1  #Gadhvi (He thought he was Gandhi)  (2019)  109 min            Drama   \n",
      "2                         #Homecoming  (2021)   90 min   Drama, Musical   \n",
      "3                             #Yaaram  (2019)  110 min  Comedy, Romance   \n",
      "4                   ...And Once Again  (2010)  105 min            Drama   \n",
      "\n",
      "   Rating Votes            Director       Actor 1             Actor 2  \\\n",
      "0     NaN   NaN       J.S. Randhawa      Manmauji              Birbal   \n",
      "1     7.0     8       Gaurav Bakshi  Rasika Dugal      Vivek Ghamande   \n",
      "2     NaN   NaN  Soumyajit Majumdar  Sayani Gupta   Plabita Borthakur   \n",
      "3     4.4    35          Ovais Khan       Prateik          Ishita Raj   \n",
      "4     NaN   NaN        Amol Palekar  Rajat Kapoor  Rituparna Sengupta   \n",
      "\n",
      "           Actor 3  \n",
      "0  Rajendra Bhatia  \n",
      "1    Arvind Jangid  \n",
      "2       Roy Angana  \n",
      "3  Siddhant Kapoor  \n",
      "4      Antara Mali  \n"
     ]
    }
   ],
   "source": [
    "# Display the first few rows of the dataset \n",
    "print(df.head())\n",
    "\n"
   ]
  },
  {
   "cell_type": "code",
   "execution_count": 4,
   "id": "724585e4",
   "metadata": {
    "execution": {
     "iopub.execute_input": "2024-05-22T09:47:46.064206Z",
     "iopub.status.busy": "2024-05-22T09:47:46.063495Z",
     "iopub.status.idle": "2024-05-22T09:47:46.078226Z",
     "shell.execute_reply": "2024-05-22T09:47:46.076962Z"
    },
    "executionInfo": {
     "elapsed": 453,
     "status": "ok",
     "timestamp": 1716369030952,
     "user": {
      "displayName": "RUDRA KANTI PARIA",
      "userId": "12500779285996674123"
     },
     "user_tz": -330
    },
    "id": "PjNSjrpW78Ki",
    "outputId": "62c206ee-5f63-4ea8-df95-60524306348d",
    "papermill": {
     "duration": 0.023889,
     "end_time": "2024-05-22T09:47:46.080427",
     "exception": false,
     "start_time": "2024-05-22T09:47:46.056538",
     "status": "completed"
    },
    "tags": []
   },
   "outputs": [
    {
     "name": "stdout",
     "output_type": "stream",
     "text": [
      "            Rating\n",
      "count  7919.000000\n",
      "mean      5.841621\n",
      "std       1.381777\n",
      "min       1.100000\n",
      "25%       4.900000\n",
      "50%       6.000000\n",
      "75%       6.800000\n",
      "max      10.000000\n"
     ]
    }
   ],
   "source": [
    "# Display basic statistics of the dataset\n",
    "print(df.describe())\n",
    "\n"
   ]
  },
  {
   "cell_type": "code",
   "execution_count": 5,
   "id": "09112226",
   "metadata": {
    "execution": {
     "iopub.execute_input": "2024-05-22T09:47:46.094209Z",
     "iopub.status.busy": "2024-05-22T09:47:46.093823Z",
     "iopub.status.idle": "2024-05-22T09:47:46.119031Z",
     "shell.execute_reply": "2024-05-22T09:47:46.117867Z"
    },
    "executionInfo": {
     "elapsed": 10,
     "status": "ok",
     "timestamp": 1716369034967,
     "user": {
      "displayName": "RUDRA KANTI PARIA",
      "userId": "12500779285996674123"
     },
     "user_tz": -330
    },
    "id": "cqemCi2_78ah",
    "outputId": "bfcd2b46-4dad-48e0-a7d0-52f1dce232dc",
    "papermill": {
     "duration": 0.034674,
     "end_time": "2024-05-22T09:47:46.121238",
     "exception": false,
     "start_time": "2024-05-22T09:47:46.086564",
     "status": "completed"
    },
    "tags": []
   },
   "outputs": [
    {
     "name": "stdout",
     "output_type": "stream",
     "text": [
      "<class 'pandas.core.frame.DataFrame'>\n",
      "RangeIndex: 15509 entries, 0 to 15508\n",
      "Data columns (total 10 columns):\n",
      " #   Column    Non-Null Count  Dtype  \n",
      "---  ------    --------------  -----  \n",
      " 0   Name      15509 non-null  object \n",
      " 1   Year      14981 non-null  object \n",
      " 2   Duration  7240 non-null   object \n",
      " 3   Genre     13632 non-null  object \n",
      " 4   Rating    7919 non-null   float64\n",
      " 5   Votes     7920 non-null   object \n",
      " 6   Director  14984 non-null  object \n",
      " 7   Actor 1   13892 non-null  object \n",
      " 8   Actor 2   13125 non-null  object \n",
      " 9   Actor 3   12365 non-null  object \n",
      "dtypes: float64(1), object(9)\n",
      "memory usage: 1.2+ MB\n",
      "None\n"
     ]
    }
   ],
   "source": [
    "# Display information about the dataset\n",
    "print(df.info())"
   ]
  },
  {
   "cell_type": "code",
   "execution_count": 6,
   "id": "56f029bc",
   "metadata": {
    "execution": {
     "iopub.execute_input": "2024-05-22T09:47:46.134945Z",
     "iopub.status.busy": "2024-05-22T09:47:46.134601Z",
     "iopub.status.idle": "2024-05-22T09:47:47.256929Z",
     "shell.execute_reply": "2024-05-22T09:47:47.256076Z"
    },
    "executionInfo": {
     "elapsed": 2307,
     "status": "ok",
     "timestamp": 1716369039358,
     "user": {
      "displayName": "RUDRA KANTI PARIA",
      "userId": "12500779285996674123"
     },
     "user_tz": -330
    },
    "id": "5f4EQsj7D0Cn",
    "papermill": {
     "duration": 1.131901,
     "end_time": "2024-05-22T09:47:47.259276",
     "exception": false,
     "start_time": "2024-05-22T09:47:46.127375",
     "status": "completed"
    },
    "tags": []
   },
   "outputs": [],
   "source": [
    "import pandas as pd\n",
    "from sklearn.model_selection import train_test_split\n",
    "from sklearn.preprocessing import OneHotEncoder\n",
    "from sklearn.compose import ColumnTransformer\n",
    "from sklearn.pipeline import Pipeline\n",
    "from sklearn.impute import SimpleImputer\n",
    "from sklearn.linear_model import LinearRegression\n",
    "from sklearn.metrics import mean_squared_error, r2_score\n",
    "\n",
    "\n"
   ]
  },
  {
   "cell_type": "code",
   "execution_count": 7,
   "id": "c929d57c",
   "metadata": {
    "execution": {
     "iopub.execute_input": "2024-05-22T09:47:47.273720Z",
     "iopub.status.busy": "2024-05-22T09:47:47.272897Z",
     "iopub.status.idle": "2024-05-22T09:47:47.289032Z",
     "shell.execute_reply": "2024-05-22T09:47:47.288247Z"
    },
    "executionInfo": {
     "elapsed": 522,
     "status": "ok",
     "timestamp": 1716369049462,
     "user": {
      "displayName": "RUDRA KANTI PARIA",
      "userId": "12500779285996674123"
     },
     "user_tz": -330
    },
    "id": "Rdq9AZcAGwhH",
    "papermill": {
     "duration": 0.025452,
     "end_time": "2024-05-22T09:47:47.291133",
     "exception": false,
     "start_time": "2024-05-22T09:47:47.265681",
     "status": "completed"
    },
    "tags": []
   },
   "outputs": [],
   "source": [
    "# Handle missing values\n",
    "df = df.dropna(subset=['Rating'])  # Drop rows where the target variable is missing\n",
    "df = df.fillna('Votes')"
   ]
  },
  {
   "cell_type": "code",
   "execution_count": 8,
   "id": "f679d632",
   "metadata": {
    "execution": {
     "iopub.execute_input": "2024-05-22T09:47:47.305849Z",
     "iopub.status.busy": "2024-05-22T09:47:47.305271Z",
     "iopub.status.idle": "2024-05-22T09:47:47.312288Z",
     "shell.execute_reply": "2024-05-22T09:47:47.311322Z"
    },
    "id": "h68EHVBUD0LD",
    "papermill": {
     "duration": 0.016855,
     "end_time": "2024-05-22T09:47:47.314204",
     "exception": false,
     "start_time": "2024-05-22T09:47:47.297349",
     "status": "completed"
    },
    "tags": []
   },
   "outputs": [],
   "source": [
    "# Select relevant features for the model\n",
    "X = df[['Genre', 'Director' , 'Votes']]\n",
    "y = df['Rating']\n"
   ]
  },
  {
   "cell_type": "code",
   "execution_count": 9,
   "id": "0bfd401c",
   "metadata": {
    "execution": {
     "iopub.execute_input": "2024-05-22T09:47:47.328446Z",
     "iopub.status.busy": "2024-05-22T09:47:47.327783Z",
     "iopub.status.idle": "2024-05-22T09:47:47.414108Z",
     "shell.execute_reply": "2024-05-22T09:47:47.413123Z"
    },
    "executionInfo": {
     "elapsed": 22,
     "status": "ok",
     "timestamp": 1716363380849,
     "user": {
      "displayName": "RUDRA KANTI PARIA",
      "userId": "12500779285996674123"
     },
     "user_tz": -330
    },
    "id": "sqgAq3qoG09p",
    "outputId": "534be06d-6a50-4166-dd00-b10b793896af",
    "papermill": {
     "duration": 0.09571,
     "end_time": "2024-05-22T09:47:47.416182",
     "exception": false,
     "start_time": "2024-05-22T09:47:47.320472",
     "status": "completed"
    },
    "tags": []
   },
   "outputs": [
    {
     "data": {
      "text/html": [
       "<div>\n",
       "<style scoped>\n",
       "    .dataframe tbody tr th:only-of-type {\n",
       "        vertical-align: middle;\n",
       "    }\n",
       "\n",
       "    .dataframe tbody tr th {\n",
       "        vertical-align: top;\n",
       "    }\n",
       "\n",
       "    .dataframe thead th {\n",
       "        text-align: right;\n",
       "    }\n",
       "</style>\n",
       "<table border=\"1\" class=\"dataframe\">\n",
       "  <thead>\n",
       "    <tr style=\"text-align: right;\">\n",
       "      <th></th>\n",
       "      <th>Genre</th>\n",
       "      <th>Director</th>\n",
       "      <th>Votes</th>\n",
       "    </tr>\n",
       "  </thead>\n",
       "  <tbody>\n",
       "    <tr>\n",
       "      <th>1</th>\n",
       "      <td>Drama</td>\n",
       "      <td>Gaurav Bakshi</td>\n",
       "      <td>8</td>\n",
       "    </tr>\n",
       "    <tr>\n",
       "      <th>3</th>\n",
       "      <td>Comedy, Romance</td>\n",
       "      <td>Ovais Khan</td>\n",
       "      <td>35</td>\n",
       "    </tr>\n",
       "    <tr>\n",
       "      <th>5</th>\n",
       "      <td>Comedy, Drama, Musical</td>\n",
       "      <td>Rahul Rawail</td>\n",
       "      <td>827</td>\n",
       "    </tr>\n",
       "    <tr>\n",
       "      <th>6</th>\n",
       "      <td>Drama, Romance, War</td>\n",
       "      <td>Shoojit Sircar</td>\n",
       "      <td>1,086</td>\n",
       "    </tr>\n",
       "    <tr>\n",
       "      <th>8</th>\n",
       "      <td>Horror, Mystery, Thriller</td>\n",
       "      <td>Allyson Patel</td>\n",
       "      <td>326</td>\n",
       "    </tr>\n",
       "    <tr>\n",
       "      <th>...</th>\n",
       "      <td>...</td>\n",
       "      <td>...</td>\n",
       "      <td>...</td>\n",
       "    </tr>\n",
       "    <tr>\n",
       "      <th>15501</th>\n",
       "      <td>Action, Crime, Drama</td>\n",
       "      <td>Bharat Rangachary</td>\n",
       "      <td>135</td>\n",
       "    </tr>\n",
       "    <tr>\n",
       "      <th>15503</th>\n",
       "      <td>Action, Crime, Drama</td>\n",
       "      <td>S.P. Muthuraman</td>\n",
       "      <td>44</td>\n",
       "    </tr>\n",
       "    <tr>\n",
       "      <th>15504</th>\n",
       "      <td>Action</td>\n",
       "      <td>Mahendra Shah</td>\n",
       "      <td>11</td>\n",
       "    </tr>\n",
       "    <tr>\n",
       "      <th>15505</th>\n",
       "      <td>Action, Drama</td>\n",
       "      <td>Kuku Kohli</td>\n",
       "      <td>655</td>\n",
       "    </tr>\n",
       "    <tr>\n",
       "      <th>15508</th>\n",
       "      <td>Action, Drama</td>\n",
       "      <td>K.C. Bokadia</td>\n",
       "      <td>20</td>\n",
       "    </tr>\n",
       "  </tbody>\n",
       "</table>\n",
       "<p>7919 rows × 3 columns</p>\n",
       "</div>"
      ],
      "text/plain": [
       "                           Genre           Director  Votes\n",
       "1                          Drama      Gaurav Bakshi      8\n",
       "3                Comedy, Romance         Ovais Khan     35\n",
       "5         Comedy, Drama, Musical       Rahul Rawail    827\n",
       "6            Drama, Romance, War     Shoojit Sircar  1,086\n",
       "8      Horror, Mystery, Thriller      Allyson Patel    326\n",
       "...                          ...                ...    ...\n",
       "15501       Action, Crime, Drama  Bharat Rangachary    135\n",
       "15503       Action, Crime, Drama    S.P. Muthuraman     44\n",
       "15504                     Action      Mahendra Shah     11\n",
       "15505              Action, Drama         Kuku Kohli    655\n",
       "15508              Action, Drama       K.C. Bokadia     20\n",
       "\n",
       "[7919 rows x 3 columns]"
      ]
     },
     "execution_count": 9,
     "metadata": {},
     "output_type": "execute_result"
    }
   ],
   "source": [
    "X"
   ]
  },
  {
   "cell_type": "code",
   "execution_count": 10,
   "id": "f289a6c3",
   "metadata": {
    "execution": {
     "iopub.execute_input": "2024-05-22T09:47:47.431138Z",
     "iopub.status.busy": "2024-05-22T09:47:47.430473Z",
     "iopub.status.idle": "2024-05-22T09:47:47.438488Z",
     "shell.execute_reply": "2024-05-22T09:47:47.437519Z"
    },
    "executionInfo": {
     "elapsed": 667,
     "status": "ok",
     "timestamp": 1716363390682,
     "user": {
      "displayName": "RUDRA KANTI PARIA",
      "userId": "12500779285996674123"
     },
     "user_tz": -330
    },
    "id": "UpJU_StaG5NC",
    "outputId": "ecfb4b7b-9afe-4f6d-bb9b-439dc0348574",
    "papermill": {
     "duration": 0.017757,
     "end_time": "2024-05-22T09:47:47.440456",
     "exception": false,
     "start_time": "2024-05-22T09:47:47.422699",
     "status": "completed"
    },
    "tags": []
   },
   "outputs": [
    {
     "data": {
      "text/plain": [
       "1        7.0\n",
       "3        4.4\n",
       "5        4.7\n",
       "6        7.4\n",
       "8        5.6\n",
       "        ... \n",
       "15501    5.3\n",
       "15503    5.8\n",
       "15504    4.6\n",
       "15505    4.5\n",
       "15508    6.2\n",
       "Name: Rating, Length: 7919, dtype: float64"
      ]
     },
     "execution_count": 10,
     "metadata": {},
     "output_type": "execute_result"
    }
   ],
   "source": [
    "y"
   ]
  },
  {
   "cell_type": "code",
   "execution_count": 11,
   "id": "50bd9e47",
   "metadata": {
    "execution": {
     "iopub.execute_input": "2024-05-22T09:47:47.455422Z",
     "iopub.status.busy": "2024-05-22T09:47:47.454745Z",
     "iopub.status.idle": "2024-05-22T09:47:47.463546Z",
     "shell.execute_reply": "2024-05-22T09:47:47.462592Z"
    },
    "id": "UcdYd_2aD0N0",
    "papermill": {
     "duration": 0.018543,
     "end_time": "2024-05-22T09:47:47.465724",
     "exception": false,
     "start_time": "2024-05-22T09:47:47.447181",
     "status": "completed"
    },
    "tags": []
   },
   "outputs": [],
   "source": [
    "#Split the data into training and testing sets\n",
    "X_train, X_test, y_train, y_test = train_test_split(X, y, test_size=0.2, random_state=42)\n",
    "\n"
   ]
  },
  {
   "cell_type": "code",
   "execution_count": 12,
   "id": "3b23cb4e",
   "metadata": {
    "execution": {
     "iopub.execute_input": "2024-05-22T09:47:47.482106Z",
     "iopub.status.busy": "2024-05-22T09:47:47.481171Z",
     "iopub.status.idle": "2024-05-22T09:47:47.486328Z",
     "shell.execute_reply": "2024-05-22T09:47:47.485294Z"
    },
    "id": "rRReloi5D0Qi",
    "papermill": {
     "duration": 0.015636,
     "end_time": "2024-05-22T09:47:47.488435",
     "exception": false,
     "start_time": "2024-05-22T09:47:47.472799",
     "status": "completed"
    },
    "tags": []
   },
   "outputs": [],
   "source": [
    "# Preprocess the data (OneHotEncoding for categorical features)\n",
    "preprocessor = ColumnTransformer(\n",
    "    transformers=[\n",
    "        ('categorical,', OneHotEncoder(handle_unknown='ignore'), ['Genre', 'Director', 'Votes'])\n",
    "    ]\n",
    ")\n",
    "\n"
   ]
  },
  {
   "cell_type": "code",
   "execution_count": 13,
   "id": "d98667d1",
   "metadata": {
    "execution": {
     "iopub.execute_input": "2024-05-22T09:47:47.504086Z",
     "iopub.status.busy": "2024-05-22T09:47:47.503669Z",
     "iopub.status.idle": "2024-05-22T09:47:47.515146Z",
     "shell.execute_reply": "2024-05-22T09:47:47.514112Z"
    },
    "executionInfo": {
     "elapsed": 8,
     "status": "ok",
     "timestamp": 1716363639796,
     "user": {
      "displayName": "RUDRA KANTI PARIA",
      "userId": "12500779285996674123"
     },
     "user_tz": -330
    },
    "id": "fG02ZUp_HtFH",
    "outputId": "7dede51a-f47d-46bc-c6e5-2492b0ec7a0f",
    "papermill": {
     "duration": 0.021956,
     "end_time": "2024-05-22T09:47:47.517408",
     "exception": false,
     "start_time": "2024-05-22T09:47:47.495452",
     "status": "completed"
    },
    "tags": []
   },
   "outputs": [
    {
     "data": {
      "text/html": [
       "<style>#sk-container-id-1 {color: black;background-color: white;}#sk-container-id-1 pre{padding: 0;}#sk-container-id-1 div.sk-toggleable {background-color: white;}#sk-container-id-1 label.sk-toggleable__label {cursor: pointer;display: block;width: 100%;margin-bottom: 0;padding: 0.3em;box-sizing: border-box;text-align: center;}#sk-container-id-1 label.sk-toggleable__label-arrow:before {content: \"▸\";float: left;margin-right: 0.25em;color: #696969;}#sk-container-id-1 label.sk-toggleable__label-arrow:hover:before {color: black;}#sk-container-id-1 div.sk-estimator:hover label.sk-toggleable__label-arrow:before {color: black;}#sk-container-id-1 div.sk-toggleable__content {max-height: 0;max-width: 0;overflow: hidden;text-align: left;background-color: #f0f8ff;}#sk-container-id-1 div.sk-toggleable__content pre {margin: 0.2em;color: black;border-radius: 0.25em;background-color: #f0f8ff;}#sk-container-id-1 input.sk-toggleable__control:checked~div.sk-toggleable__content {max-height: 200px;max-width: 100%;overflow: auto;}#sk-container-id-1 input.sk-toggleable__control:checked~label.sk-toggleable__label-arrow:before {content: \"▾\";}#sk-container-id-1 div.sk-estimator input.sk-toggleable__control:checked~label.sk-toggleable__label {background-color: #d4ebff;}#sk-container-id-1 div.sk-label input.sk-toggleable__control:checked~label.sk-toggleable__label {background-color: #d4ebff;}#sk-container-id-1 input.sk-hidden--visually {border: 0;clip: rect(1px 1px 1px 1px);clip: rect(1px, 1px, 1px, 1px);height: 1px;margin: -1px;overflow: hidden;padding: 0;position: absolute;width: 1px;}#sk-container-id-1 div.sk-estimator {font-family: monospace;background-color: #f0f8ff;border: 1px dotted black;border-radius: 0.25em;box-sizing: border-box;margin-bottom: 0.5em;}#sk-container-id-1 div.sk-estimator:hover {background-color: #d4ebff;}#sk-container-id-1 div.sk-parallel-item::after {content: \"\";width: 100%;border-bottom: 1px solid gray;flex-grow: 1;}#sk-container-id-1 div.sk-label:hover label.sk-toggleable__label {background-color: #d4ebff;}#sk-container-id-1 div.sk-serial::before {content: \"\";position: absolute;border-left: 1px solid gray;box-sizing: border-box;top: 0;bottom: 0;left: 50%;z-index: 0;}#sk-container-id-1 div.sk-serial {display: flex;flex-direction: column;align-items: center;background-color: white;padding-right: 0.2em;padding-left: 0.2em;position: relative;}#sk-container-id-1 div.sk-item {position: relative;z-index: 1;}#sk-container-id-1 div.sk-parallel {display: flex;align-items: stretch;justify-content: center;background-color: white;position: relative;}#sk-container-id-1 div.sk-item::before, #sk-container-id-1 div.sk-parallel-item::before {content: \"\";position: absolute;border-left: 1px solid gray;box-sizing: border-box;top: 0;bottom: 0;left: 50%;z-index: -1;}#sk-container-id-1 div.sk-parallel-item {display: flex;flex-direction: column;z-index: 1;position: relative;background-color: white;}#sk-container-id-1 div.sk-parallel-item:first-child::after {align-self: flex-end;width: 50%;}#sk-container-id-1 div.sk-parallel-item:last-child::after {align-self: flex-start;width: 50%;}#sk-container-id-1 div.sk-parallel-item:only-child::after {width: 0;}#sk-container-id-1 div.sk-dashed-wrapped {border: 1px dashed gray;margin: 0 0.4em 0.5em 0.4em;box-sizing: border-box;padding-bottom: 0.4em;background-color: white;}#sk-container-id-1 div.sk-label label {font-family: monospace;font-weight: bold;display: inline-block;line-height: 1.2em;}#sk-container-id-1 div.sk-label-container {text-align: center;}#sk-container-id-1 div.sk-container {/* jupyter's `normalize.less` sets `[hidden] { display: none; }` but bootstrap.min.css set `[hidden] { display: none !important; }` so we also need the `!important` here to be able to override the default hidden behavior on the sphinx rendered scikit-learn.org. See: https://github.com/scikit-learn/scikit-learn/issues/21755 */display: inline-block !important;position: relative;}#sk-container-id-1 div.sk-text-repr-fallback {display: none;}</style><div id=\"sk-container-id-1\" class=\"sk-top-container\"><div class=\"sk-text-repr-fallback\"><pre>ColumnTransformer(transformers=[(&#x27;categorical,&#x27;,\n",
       "                                 OneHotEncoder(handle_unknown=&#x27;ignore&#x27;),\n",
       "                                 [&#x27;Genre&#x27;, &#x27;Director&#x27;, &#x27;Votes&#x27;])])</pre><b>In a Jupyter environment, please rerun this cell to show the HTML representation or trust the notebook. <br />On GitHub, the HTML representation is unable to render, please try loading this page with nbviewer.org.</b></div><div class=\"sk-container\" hidden><div class=\"sk-item sk-dashed-wrapped\"><div class=\"sk-label-container\"><div class=\"sk-label sk-toggleable\"><input class=\"sk-toggleable__control sk-hidden--visually\" id=\"sk-estimator-id-1\" type=\"checkbox\" ><label for=\"sk-estimator-id-1\" class=\"sk-toggleable__label sk-toggleable__label-arrow\">ColumnTransformer</label><div class=\"sk-toggleable__content\"><pre>ColumnTransformer(transformers=[(&#x27;categorical,&#x27;,\n",
       "                                 OneHotEncoder(handle_unknown=&#x27;ignore&#x27;),\n",
       "                                 [&#x27;Genre&#x27;, &#x27;Director&#x27;, &#x27;Votes&#x27;])])</pre></div></div></div><div class=\"sk-parallel\"><div class=\"sk-parallel-item\"><div class=\"sk-item\"><div class=\"sk-label-container\"><div class=\"sk-label sk-toggleable\"><input class=\"sk-toggleable__control sk-hidden--visually\" id=\"sk-estimator-id-2\" type=\"checkbox\" ><label for=\"sk-estimator-id-2\" class=\"sk-toggleable__label sk-toggleable__label-arrow\">categorical,</label><div class=\"sk-toggleable__content\"><pre>[&#x27;Genre&#x27;, &#x27;Director&#x27;, &#x27;Votes&#x27;]</pre></div></div></div><div class=\"sk-serial\"><div class=\"sk-item\"><div class=\"sk-estimator sk-toggleable\"><input class=\"sk-toggleable__control sk-hidden--visually\" id=\"sk-estimator-id-3\" type=\"checkbox\" ><label for=\"sk-estimator-id-3\" class=\"sk-toggleable__label sk-toggleable__label-arrow\">OneHotEncoder</label><div class=\"sk-toggleable__content\"><pre>OneHotEncoder(handle_unknown=&#x27;ignore&#x27;)</pre></div></div></div></div></div></div></div></div></div></div>"
      ],
      "text/plain": [
       "ColumnTransformer(transformers=[('categorical,',\n",
       "                                 OneHotEncoder(handle_unknown='ignore'),\n",
       "                                 ['Genre', 'Director', 'Votes'])])"
      ]
     },
     "execution_count": 13,
     "metadata": {},
     "output_type": "execute_result"
    }
   ],
   "source": [
    "preprocessor"
   ]
  },
  {
   "cell_type": "code",
   "execution_count": 14,
   "id": "a63dadc6",
   "metadata": {
    "execution": {
     "iopub.execute_input": "2024-05-22T09:47:47.536207Z",
     "iopub.status.busy": "2024-05-22T09:47:47.535810Z",
     "iopub.status.idle": "2024-05-22T09:47:47.540670Z",
     "shell.execute_reply": "2024-05-22T09:47:47.539691Z"
    },
    "id": "wqOlbkkiD0TR",
    "papermill": {
     "duration": 0.016363,
     "end_time": "2024-05-22T09:47:47.542875",
     "exception": false,
     "start_time": "2024-05-22T09:47:47.526512",
     "status": "completed"
    },
    "tags": []
   },
   "outputs": [],
   "source": [
    "#Create a pipeline with preprocessing and regression\n",
    "pipeline = Pipeline(steps=[\n",
    "    ('preprocessor', preprocessor),\n",
    "    ('regressor', LinearRegression())\n",
    "])\n",
    "\n"
   ]
  },
  {
   "cell_type": "code",
   "execution_count": 15,
   "id": "16c44619",
   "metadata": {
    "execution": {
     "iopub.execute_input": "2024-05-22T09:47:47.559735Z",
     "iopub.status.busy": "2024-05-22T09:47:47.558929Z",
     "iopub.status.idle": "2024-05-22T09:47:47.578082Z",
     "shell.execute_reply": "2024-05-22T09:47:47.576997Z"
    },
    "executionInfo": {
     "elapsed": 9,
     "status": "ok",
     "timestamp": 1716363643092,
     "user": {
      "displayName": "RUDRA KANTI PARIA",
      "userId": "12500779285996674123"
     },
     "user_tz": -330
    },
    "id": "vB7n27y7Hx_T",
    "outputId": "19fc4f07-7541-4310-eb72-7719ae5452fa",
    "papermill": {
     "duration": 0.029745,
     "end_time": "2024-05-22T09:47:47.580121",
     "exception": false,
     "start_time": "2024-05-22T09:47:47.550376",
     "status": "completed"
    },
    "tags": []
   },
   "outputs": [
    {
     "data": {
      "text/html": [
       "<style>#sk-container-id-2 {color: black;background-color: white;}#sk-container-id-2 pre{padding: 0;}#sk-container-id-2 div.sk-toggleable {background-color: white;}#sk-container-id-2 label.sk-toggleable__label {cursor: pointer;display: block;width: 100%;margin-bottom: 0;padding: 0.3em;box-sizing: border-box;text-align: center;}#sk-container-id-2 label.sk-toggleable__label-arrow:before {content: \"▸\";float: left;margin-right: 0.25em;color: #696969;}#sk-container-id-2 label.sk-toggleable__label-arrow:hover:before {color: black;}#sk-container-id-2 div.sk-estimator:hover label.sk-toggleable__label-arrow:before {color: black;}#sk-container-id-2 div.sk-toggleable__content {max-height: 0;max-width: 0;overflow: hidden;text-align: left;background-color: #f0f8ff;}#sk-container-id-2 div.sk-toggleable__content pre {margin: 0.2em;color: black;border-radius: 0.25em;background-color: #f0f8ff;}#sk-container-id-2 input.sk-toggleable__control:checked~div.sk-toggleable__content {max-height: 200px;max-width: 100%;overflow: auto;}#sk-container-id-2 input.sk-toggleable__control:checked~label.sk-toggleable__label-arrow:before {content: \"▾\";}#sk-container-id-2 div.sk-estimator input.sk-toggleable__control:checked~label.sk-toggleable__label {background-color: #d4ebff;}#sk-container-id-2 div.sk-label input.sk-toggleable__control:checked~label.sk-toggleable__label {background-color: #d4ebff;}#sk-container-id-2 input.sk-hidden--visually {border: 0;clip: rect(1px 1px 1px 1px);clip: rect(1px, 1px, 1px, 1px);height: 1px;margin: -1px;overflow: hidden;padding: 0;position: absolute;width: 1px;}#sk-container-id-2 div.sk-estimator {font-family: monospace;background-color: #f0f8ff;border: 1px dotted black;border-radius: 0.25em;box-sizing: border-box;margin-bottom: 0.5em;}#sk-container-id-2 div.sk-estimator:hover {background-color: #d4ebff;}#sk-container-id-2 div.sk-parallel-item::after {content: \"\";width: 100%;border-bottom: 1px solid gray;flex-grow: 1;}#sk-container-id-2 div.sk-label:hover label.sk-toggleable__label {background-color: #d4ebff;}#sk-container-id-2 div.sk-serial::before {content: \"\";position: absolute;border-left: 1px solid gray;box-sizing: border-box;top: 0;bottom: 0;left: 50%;z-index: 0;}#sk-container-id-2 div.sk-serial {display: flex;flex-direction: column;align-items: center;background-color: white;padding-right: 0.2em;padding-left: 0.2em;position: relative;}#sk-container-id-2 div.sk-item {position: relative;z-index: 1;}#sk-container-id-2 div.sk-parallel {display: flex;align-items: stretch;justify-content: center;background-color: white;position: relative;}#sk-container-id-2 div.sk-item::before, #sk-container-id-2 div.sk-parallel-item::before {content: \"\";position: absolute;border-left: 1px solid gray;box-sizing: border-box;top: 0;bottom: 0;left: 50%;z-index: -1;}#sk-container-id-2 div.sk-parallel-item {display: flex;flex-direction: column;z-index: 1;position: relative;background-color: white;}#sk-container-id-2 div.sk-parallel-item:first-child::after {align-self: flex-end;width: 50%;}#sk-container-id-2 div.sk-parallel-item:last-child::after {align-self: flex-start;width: 50%;}#sk-container-id-2 div.sk-parallel-item:only-child::after {width: 0;}#sk-container-id-2 div.sk-dashed-wrapped {border: 1px dashed gray;margin: 0 0.4em 0.5em 0.4em;box-sizing: border-box;padding-bottom: 0.4em;background-color: white;}#sk-container-id-2 div.sk-label label {font-family: monospace;font-weight: bold;display: inline-block;line-height: 1.2em;}#sk-container-id-2 div.sk-label-container {text-align: center;}#sk-container-id-2 div.sk-container {/* jupyter's `normalize.less` sets `[hidden] { display: none; }` but bootstrap.min.css set `[hidden] { display: none !important; }` so we also need the `!important` here to be able to override the default hidden behavior on the sphinx rendered scikit-learn.org. See: https://github.com/scikit-learn/scikit-learn/issues/21755 */display: inline-block !important;position: relative;}#sk-container-id-2 div.sk-text-repr-fallback {display: none;}</style><div id=\"sk-container-id-2\" class=\"sk-top-container\"><div class=\"sk-text-repr-fallback\"><pre>Pipeline(steps=[(&#x27;preprocessor&#x27;,\n",
       "                 ColumnTransformer(transformers=[(&#x27;categorical,&#x27;,\n",
       "                                                  OneHotEncoder(handle_unknown=&#x27;ignore&#x27;),\n",
       "                                                  [&#x27;Genre&#x27;, &#x27;Director&#x27;,\n",
       "                                                   &#x27;Votes&#x27;])])),\n",
       "                (&#x27;regressor&#x27;, LinearRegression())])</pre><b>In a Jupyter environment, please rerun this cell to show the HTML representation or trust the notebook. <br />On GitHub, the HTML representation is unable to render, please try loading this page with nbviewer.org.</b></div><div class=\"sk-container\" hidden><div class=\"sk-item sk-dashed-wrapped\"><div class=\"sk-label-container\"><div class=\"sk-label sk-toggleable\"><input class=\"sk-toggleable__control sk-hidden--visually\" id=\"sk-estimator-id-4\" type=\"checkbox\" ><label for=\"sk-estimator-id-4\" class=\"sk-toggleable__label sk-toggleable__label-arrow\">Pipeline</label><div class=\"sk-toggleable__content\"><pre>Pipeline(steps=[(&#x27;preprocessor&#x27;,\n",
       "                 ColumnTransformer(transformers=[(&#x27;categorical,&#x27;,\n",
       "                                                  OneHotEncoder(handle_unknown=&#x27;ignore&#x27;),\n",
       "                                                  [&#x27;Genre&#x27;, &#x27;Director&#x27;,\n",
       "                                                   &#x27;Votes&#x27;])])),\n",
       "                (&#x27;regressor&#x27;, LinearRegression())])</pre></div></div></div><div class=\"sk-serial\"><div class=\"sk-item sk-dashed-wrapped\"><div class=\"sk-label-container\"><div class=\"sk-label sk-toggleable\"><input class=\"sk-toggleable__control sk-hidden--visually\" id=\"sk-estimator-id-5\" type=\"checkbox\" ><label for=\"sk-estimator-id-5\" class=\"sk-toggleable__label sk-toggleable__label-arrow\">preprocessor: ColumnTransformer</label><div class=\"sk-toggleable__content\"><pre>ColumnTransformer(transformers=[(&#x27;categorical,&#x27;,\n",
       "                                 OneHotEncoder(handle_unknown=&#x27;ignore&#x27;),\n",
       "                                 [&#x27;Genre&#x27;, &#x27;Director&#x27;, &#x27;Votes&#x27;])])</pre></div></div></div><div class=\"sk-parallel\"><div class=\"sk-parallel-item\"><div class=\"sk-item\"><div class=\"sk-label-container\"><div class=\"sk-label sk-toggleable\"><input class=\"sk-toggleable__control sk-hidden--visually\" id=\"sk-estimator-id-6\" type=\"checkbox\" ><label for=\"sk-estimator-id-6\" class=\"sk-toggleable__label sk-toggleable__label-arrow\">categorical,</label><div class=\"sk-toggleable__content\"><pre>[&#x27;Genre&#x27;, &#x27;Director&#x27;, &#x27;Votes&#x27;]</pre></div></div></div><div class=\"sk-serial\"><div class=\"sk-item\"><div class=\"sk-estimator sk-toggleable\"><input class=\"sk-toggleable__control sk-hidden--visually\" id=\"sk-estimator-id-7\" type=\"checkbox\" ><label for=\"sk-estimator-id-7\" class=\"sk-toggleable__label sk-toggleable__label-arrow\">OneHotEncoder</label><div class=\"sk-toggleable__content\"><pre>OneHotEncoder(handle_unknown=&#x27;ignore&#x27;)</pre></div></div></div></div></div></div></div></div><div class=\"sk-item\"><div class=\"sk-estimator sk-toggleable\"><input class=\"sk-toggleable__control sk-hidden--visually\" id=\"sk-estimator-id-8\" type=\"checkbox\" ><label for=\"sk-estimator-id-8\" class=\"sk-toggleable__label sk-toggleable__label-arrow\">LinearRegression</label><div class=\"sk-toggleable__content\"><pre>LinearRegression()</pre></div></div></div></div></div></div></div>"
      ],
      "text/plain": [
       "Pipeline(steps=[('preprocessor',\n",
       "                 ColumnTransformer(transformers=[('categorical,',\n",
       "                                                  OneHotEncoder(handle_unknown='ignore'),\n",
       "                                                  ['Genre', 'Director',\n",
       "                                                   'Votes'])])),\n",
       "                ('regressor', LinearRegression())])"
      ]
     },
     "execution_count": 15,
     "metadata": {},
     "output_type": "execute_result"
    }
   ],
   "source": [
    "pipeline"
   ]
  },
  {
   "cell_type": "code",
   "execution_count": 16,
   "id": "50696484",
   "metadata": {
    "execution": {
     "iopub.execute_input": "2024-05-22T09:47:47.596714Z",
     "iopub.status.busy": "2024-05-22T09:47:47.596369Z",
     "iopub.status.idle": "2024-05-22T09:47:47.765334Z",
     "shell.execute_reply": "2024-05-22T09:47:47.764227Z"
    },
    "executionInfo": {
     "elapsed": 8,
     "status": "ok",
     "timestamp": 1716363650965,
     "user": {
      "displayName": "RUDRA KANTI PARIA",
      "userId": "12500779285996674123"
     },
     "user_tz": -330
    },
    "id": "tuZGksxbGifE",
    "outputId": "2ee7e52d-14a5-4231-d77e-08b4a0eeb916",
    "papermill": {
     "duration": 0.17995,
     "end_time": "2024-05-22T09:47:47.767616",
     "exception": false,
     "start_time": "2024-05-22T09:47:47.587666",
     "status": "completed"
    },
    "tags": []
   },
   "outputs": [
    {
     "data": {
      "text/html": [
       "<style>#sk-container-id-3 {color: black;background-color: white;}#sk-container-id-3 pre{padding: 0;}#sk-container-id-3 div.sk-toggleable {background-color: white;}#sk-container-id-3 label.sk-toggleable__label {cursor: pointer;display: block;width: 100%;margin-bottom: 0;padding: 0.3em;box-sizing: border-box;text-align: center;}#sk-container-id-3 label.sk-toggleable__label-arrow:before {content: \"▸\";float: left;margin-right: 0.25em;color: #696969;}#sk-container-id-3 label.sk-toggleable__label-arrow:hover:before {color: black;}#sk-container-id-3 div.sk-estimator:hover label.sk-toggleable__label-arrow:before {color: black;}#sk-container-id-3 div.sk-toggleable__content {max-height: 0;max-width: 0;overflow: hidden;text-align: left;background-color: #f0f8ff;}#sk-container-id-3 div.sk-toggleable__content pre {margin: 0.2em;color: black;border-radius: 0.25em;background-color: #f0f8ff;}#sk-container-id-3 input.sk-toggleable__control:checked~div.sk-toggleable__content {max-height: 200px;max-width: 100%;overflow: auto;}#sk-container-id-3 input.sk-toggleable__control:checked~label.sk-toggleable__label-arrow:before {content: \"▾\";}#sk-container-id-3 div.sk-estimator input.sk-toggleable__control:checked~label.sk-toggleable__label {background-color: #d4ebff;}#sk-container-id-3 div.sk-label input.sk-toggleable__control:checked~label.sk-toggleable__label {background-color: #d4ebff;}#sk-container-id-3 input.sk-hidden--visually {border: 0;clip: rect(1px 1px 1px 1px);clip: rect(1px, 1px, 1px, 1px);height: 1px;margin: -1px;overflow: hidden;padding: 0;position: absolute;width: 1px;}#sk-container-id-3 div.sk-estimator {font-family: monospace;background-color: #f0f8ff;border: 1px dotted black;border-radius: 0.25em;box-sizing: border-box;margin-bottom: 0.5em;}#sk-container-id-3 div.sk-estimator:hover {background-color: #d4ebff;}#sk-container-id-3 div.sk-parallel-item::after {content: \"\";width: 100%;border-bottom: 1px solid gray;flex-grow: 1;}#sk-container-id-3 div.sk-label:hover label.sk-toggleable__label {background-color: #d4ebff;}#sk-container-id-3 div.sk-serial::before {content: \"\";position: absolute;border-left: 1px solid gray;box-sizing: border-box;top: 0;bottom: 0;left: 50%;z-index: 0;}#sk-container-id-3 div.sk-serial {display: flex;flex-direction: column;align-items: center;background-color: white;padding-right: 0.2em;padding-left: 0.2em;position: relative;}#sk-container-id-3 div.sk-item {position: relative;z-index: 1;}#sk-container-id-3 div.sk-parallel {display: flex;align-items: stretch;justify-content: center;background-color: white;position: relative;}#sk-container-id-3 div.sk-item::before, #sk-container-id-3 div.sk-parallel-item::before {content: \"\";position: absolute;border-left: 1px solid gray;box-sizing: border-box;top: 0;bottom: 0;left: 50%;z-index: -1;}#sk-container-id-3 div.sk-parallel-item {display: flex;flex-direction: column;z-index: 1;position: relative;background-color: white;}#sk-container-id-3 div.sk-parallel-item:first-child::after {align-self: flex-end;width: 50%;}#sk-container-id-3 div.sk-parallel-item:last-child::after {align-self: flex-start;width: 50%;}#sk-container-id-3 div.sk-parallel-item:only-child::after {width: 0;}#sk-container-id-3 div.sk-dashed-wrapped {border: 1px dashed gray;margin: 0 0.4em 0.5em 0.4em;box-sizing: border-box;padding-bottom: 0.4em;background-color: white;}#sk-container-id-3 div.sk-label label {font-family: monospace;font-weight: bold;display: inline-block;line-height: 1.2em;}#sk-container-id-3 div.sk-label-container {text-align: center;}#sk-container-id-3 div.sk-container {/* jupyter's `normalize.less` sets `[hidden] { display: none; }` but bootstrap.min.css set `[hidden] { display: none !important; }` so we also need the `!important` here to be able to override the default hidden behavior on the sphinx rendered scikit-learn.org. See: https://github.com/scikit-learn/scikit-learn/issues/21755 */display: inline-block !important;position: relative;}#sk-container-id-3 div.sk-text-repr-fallback {display: none;}</style><div id=\"sk-container-id-3\" class=\"sk-top-container\"><div class=\"sk-text-repr-fallback\"><pre>Pipeline(steps=[(&#x27;preprocessor&#x27;,\n",
       "                 ColumnTransformer(transformers=[(&#x27;categorical,&#x27;,\n",
       "                                                  OneHotEncoder(handle_unknown=&#x27;ignore&#x27;),\n",
       "                                                  [&#x27;Genre&#x27;, &#x27;Director&#x27;,\n",
       "                                                   &#x27;Votes&#x27;])])),\n",
       "                (&#x27;regressor&#x27;, LinearRegression())])</pre><b>In a Jupyter environment, please rerun this cell to show the HTML representation or trust the notebook. <br />On GitHub, the HTML representation is unable to render, please try loading this page with nbviewer.org.</b></div><div class=\"sk-container\" hidden><div class=\"sk-item sk-dashed-wrapped\"><div class=\"sk-label-container\"><div class=\"sk-label sk-toggleable\"><input class=\"sk-toggleable__control sk-hidden--visually\" id=\"sk-estimator-id-9\" type=\"checkbox\" ><label for=\"sk-estimator-id-9\" class=\"sk-toggleable__label sk-toggleable__label-arrow\">Pipeline</label><div class=\"sk-toggleable__content\"><pre>Pipeline(steps=[(&#x27;preprocessor&#x27;,\n",
       "                 ColumnTransformer(transformers=[(&#x27;categorical,&#x27;,\n",
       "                                                  OneHotEncoder(handle_unknown=&#x27;ignore&#x27;),\n",
       "                                                  [&#x27;Genre&#x27;, &#x27;Director&#x27;,\n",
       "                                                   &#x27;Votes&#x27;])])),\n",
       "                (&#x27;regressor&#x27;, LinearRegression())])</pre></div></div></div><div class=\"sk-serial\"><div class=\"sk-item sk-dashed-wrapped\"><div class=\"sk-label-container\"><div class=\"sk-label sk-toggleable\"><input class=\"sk-toggleable__control sk-hidden--visually\" id=\"sk-estimator-id-10\" type=\"checkbox\" ><label for=\"sk-estimator-id-10\" class=\"sk-toggleable__label sk-toggleable__label-arrow\">preprocessor: ColumnTransformer</label><div class=\"sk-toggleable__content\"><pre>ColumnTransformer(transformers=[(&#x27;categorical,&#x27;,\n",
       "                                 OneHotEncoder(handle_unknown=&#x27;ignore&#x27;),\n",
       "                                 [&#x27;Genre&#x27;, &#x27;Director&#x27;, &#x27;Votes&#x27;])])</pre></div></div></div><div class=\"sk-parallel\"><div class=\"sk-parallel-item\"><div class=\"sk-item\"><div class=\"sk-label-container\"><div class=\"sk-label sk-toggleable\"><input class=\"sk-toggleable__control sk-hidden--visually\" id=\"sk-estimator-id-11\" type=\"checkbox\" ><label for=\"sk-estimator-id-11\" class=\"sk-toggleable__label sk-toggleable__label-arrow\">categorical,</label><div class=\"sk-toggleable__content\"><pre>[&#x27;Genre&#x27;, &#x27;Director&#x27;, &#x27;Votes&#x27;]</pre></div></div></div><div class=\"sk-serial\"><div class=\"sk-item\"><div class=\"sk-estimator sk-toggleable\"><input class=\"sk-toggleable__control sk-hidden--visually\" id=\"sk-estimator-id-12\" type=\"checkbox\" ><label for=\"sk-estimator-id-12\" class=\"sk-toggleable__label sk-toggleable__label-arrow\">OneHotEncoder</label><div class=\"sk-toggleable__content\"><pre>OneHotEncoder(handle_unknown=&#x27;ignore&#x27;)</pre></div></div></div></div></div></div></div></div><div class=\"sk-item\"><div class=\"sk-estimator sk-toggleable\"><input class=\"sk-toggleable__control sk-hidden--visually\" id=\"sk-estimator-id-13\" type=\"checkbox\" ><label for=\"sk-estimator-id-13\" class=\"sk-toggleable__label sk-toggleable__label-arrow\">LinearRegression</label><div class=\"sk-toggleable__content\"><pre>LinearRegression()</pre></div></div></div></div></div></div></div>"
      ],
      "text/plain": [
       "Pipeline(steps=[('preprocessor',\n",
       "                 ColumnTransformer(transformers=[('categorical,',\n",
       "                                                  OneHotEncoder(handle_unknown='ignore'),\n",
       "                                                  ['Genre', 'Director',\n",
       "                                                   'Votes'])])),\n",
       "                ('regressor', LinearRegression())])"
      ]
     },
     "execution_count": 16,
     "metadata": {},
     "output_type": "execute_result"
    }
   ],
   "source": [
    "# Train the model\n",
    "pipeline.fit(X_train, y_train)\n",
    "\n"
   ]
  },
  {
   "cell_type": "code",
   "execution_count": 17,
   "id": "a81b2154",
   "metadata": {
    "execution": {
     "iopub.execute_input": "2024-05-22T09:47:47.785028Z",
     "iopub.status.busy": "2024-05-22T09:47:47.784390Z",
     "iopub.status.idle": "2024-05-22T09:47:47.803528Z",
     "shell.execute_reply": "2024-05-22T09:47:47.802508Z"
    },
    "id": "IVeb0ASBGkqU",
    "papermill": {
     "duration": 0.030025,
     "end_time": "2024-05-22T09:47:47.805589",
     "exception": false,
     "start_time": "2024-05-22T09:47:47.775564",
     "status": "completed"
    },
    "tags": []
   },
   "outputs": [],
   "source": [
    "# Predict the ratings on the test set\n",
    "y_pred = pipeline.predict(X_test)\n",
    "\n"
   ]
  },
  {
   "cell_type": "code",
   "execution_count": 18,
   "id": "2ca2ce4f",
   "metadata": {
    "execution": {
     "iopub.execute_input": "2024-05-22T09:47:47.823090Z",
     "iopub.status.busy": "2024-05-22T09:47:47.822372Z",
     "iopub.status.idle": "2024-05-22T09:47:47.828825Z",
     "shell.execute_reply": "2024-05-22T09:47:47.827854Z"
    },
    "executionInfo": {
     "elapsed": 841,
     "status": "ok",
     "timestamp": 1716363660642,
     "user": {
      "displayName": "RUDRA KANTI PARIA",
      "userId": "12500779285996674123"
     },
     "user_tz": -330
    },
    "id": "i3dt_cz-H6Ha",
    "outputId": "93855767-5626-4e11-d38a-f5fa0522c94b",
    "papermill": {
     "duration": 0.017337,
     "end_time": "2024-05-22T09:47:47.830847",
     "exception": false,
     "start_time": "2024-05-22T09:47:47.813510",
     "status": "completed"
    },
    "tags": []
   },
   "outputs": [
    {
     "data": {
      "text/plain": [
       "array([5.42574608, 6.90674081, 4.68723943, ..., 5.05616619, 5.75663565,\n",
       "       6.02470383])"
      ]
     },
     "execution_count": 18,
     "metadata": {},
     "output_type": "execute_result"
    }
   ],
   "source": [
    "y_pred"
   ]
  },
  {
   "cell_type": "code",
   "execution_count": 19,
   "id": "cb009922",
   "metadata": {
    "execution": {
     "iopub.execute_input": "2024-05-22T09:47:47.848661Z",
     "iopub.status.busy": "2024-05-22T09:47:47.848287Z",
     "iopub.status.idle": "2024-05-22T09:47:47.854949Z",
     "shell.execute_reply": "2024-05-22T09:47:47.854089Z"
    },
    "id": "UPHWcZmtGnIf",
    "papermill": {
     "duration": 0.018194,
     "end_time": "2024-05-22T09:47:47.856982",
     "exception": false,
     "start_time": "2024-05-22T09:47:47.838788",
     "status": "completed"
    },
    "tags": []
   },
   "outputs": [],
   "source": [
    "# Evaluate the model\n",
    "mse = mean_squared_error(y_test, y_pred)\n",
    "r2 = r2_score(y_test, y_pred)\n",
    "\n"
   ]
  },
  {
   "cell_type": "code",
   "execution_count": 20,
   "id": "db06ddba",
   "metadata": {
    "execution": {
     "iopub.execute_input": "2024-05-22T09:47:47.874665Z",
     "iopub.status.busy": "2024-05-22T09:47:47.874311Z",
     "iopub.status.idle": "2024-05-22T09:47:47.879220Z",
     "shell.execute_reply": "2024-05-22T09:47:47.878253Z"
    },
    "executionInfo": {
     "elapsed": 10,
     "status": "ok",
     "timestamp": 1716363668696,
     "user": {
      "displayName": "RUDRA KANTI PARIA",
      "userId": "12500779285996674123"
     },
     "user_tz": -330
    },
    "id": "ZSdAvlakGpR6",
    "outputId": "4236bb8b-67d3-4687-c374-e687af3a54e2",
    "papermill": {
     "duration": 0.016723,
     "end_time": "2024-05-22T09:47:47.881693",
     "exception": false,
     "start_time": "2024-05-22T09:47:47.864970",
     "status": "completed"
    },
    "tags": []
   },
   "outputs": [
    {
     "name": "stdout",
     "output_type": "stream",
     "text": [
      "Mean Squared Error: 2.1907810276694057\n",
      "R^2 Score: -0.1783808481527447\n"
     ]
    }
   ],
   "source": [
    "print(f'Mean Squared Error: {mse}')\n",
    "print(f'R^2 Score: {r2}')\n"
   ]
  },
  {
   "cell_type": "code",
   "execution_count": null,
   "id": "290b3ab7",
   "metadata": {
    "id": "u5AXJvrvID1G",
    "papermill": {
     "duration": 0.00793,
     "end_time": "2024-05-22T09:47:47.897916",
     "exception": false,
     "start_time": "2024-05-22T09:47:47.889986",
     "status": "completed"
    },
    "tags": []
   },
   "outputs": [],
   "source": [
    "\n"
   ]
  }
 ],
 "metadata": {
  "colab": {
   "authorship_tag": "ABX9TyPZrB1jg80XYM0n18eR1dRt",
   "provenance": []
  },
  "kaggle": {
   "accelerator": "none",
   "dataSources": [
    {
     "datasetId": 1416444,
     "sourceId": 2346296,
     "sourceType": "datasetVersion"
    }
   ],
   "dockerImageVersionId": 30698,
   "isGpuEnabled": false,
   "isInternetEnabled": true,
   "language": "python",
   "sourceType": "notebook"
  },
  "kernelspec": {
   "display_name": "Python 3",
   "language": "python",
   "name": "python3"
  },
  "language_info": {
   "codemirror_mode": {
    "name": "ipython",
    "version": 3
   },
   "file_extension": ".py",
   "mimetype": "text/x-python",
   "name": "python",
   "nbconvert_exporter": "python",
   "pygments_lexer": "ipython3",
   "version": "3.10.13"
  },
  "papermill": {
   "default_parameters": {},
   "duration": 5.782239,
   "end_time": "2024-05-22T09:47:48.425986",
   "environment_variables": {},
   "exception": null,
   "input_path": "__notebook__.ipynb",
   "output_path": "__notebook__.ipynb",
   "parameters": {},
   "start_time": "2024-05-22T09:47:42.643747",
   "version": "2.5.0"
  }
 },
 "nbformat": 4,
 "nbformat_minor": 5
}
